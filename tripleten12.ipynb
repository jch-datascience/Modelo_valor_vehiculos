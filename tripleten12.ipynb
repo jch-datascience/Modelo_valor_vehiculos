{
  "cells": [
    {
      "cell_type": "markdown",
      "metadata": {
        "id": "mTvV_aV5grUd"
      },
      "source": [
        "El servicio de venta de autos usados Rusty Bargain está desarrollando una aplicación para atraer nuevos clientes. Gracias a esa app, puedes averiguar rápidamente el valor de mercado de tu coche. Tienes acceso al historial: especificaciones técnicas, versiones de equipamiento y precios. Tienes que crear un modelo que determine el valor de mercado.\n",
        "A Rusty Bargain le interesa:\n",
        "- la calidad de la predicción;\n",
        "- la velocidad de la predicción;\n",
        "- el tiempo requerido para el entrenamiento"
      ]
    },
    {
      "cell_type": "markdown",
      "metadata": {
        "id": "V8O8uAlUgrUe"
      },
      "source": [
        "## Descargar y examinamar los datos"
      ]
    },
    {
      "cell_type": "code",
      "execution_count": null,
      "metadata": {
        "id": "FA4zImjHgrUf",
        "outputId": "683bf318-32b1-474d-efa1-9b4ee7755f0a"
      },
      "outputs": [
        {
          "name": "stdout",
          "output_type": "stream",
          "text": [
            "Requirement already satisfied: ipython in /opt/conda/lib/python3.9/site-packages (7.25.0)\n",
            "Requirement already satisfied: jedi>=0.16 in /opt/conda/lib/python3.9/site-packages (from ipython) (0.18.0)\n",
            "Requirement already satisfied: pygments in /opt/conda/lib/python3.9/site-packages (from ipython) (2.9.0)\n",
            "Requirement already satisfied: matplotlib-inline in /opt/conda/lib/python3.9/site-packages (from ipython) (0.1.2)\n",
            "Requirement already satisfied: decorator in /opt/conda/lib/python3.9/site-packages (from ipython) (5.0.9)\n",
            "Requirement already satisfied: backcall in /opt/conda/lib/python3.9/site-packages (from ipython) (0.2.0)\n",
            "Requirement already satisfied: prompt-toolkit!=3.0.0,!=3.0.1,<3.1.0,>=2.0.0 in /opt/conda/lib/python3.9/site-packages (from ipython) (3.0.19)\n",
            "Requirement already satisfied: setuptools>=18.5 in /opt/conda/lib/python3.9/site-packages (from ipython) (49.6.0.post20210108)\n",
            "Requirement already satisfied: pickleshare in /opt/conda/lib/python3.9/site-packages (from ipython) (0.7.5)\n",
            "Requirement already satisfied: pexpect>4.3 in /opt/conda/lib/python3.9/site-packages (from ipython) (4.8.0)\n",
            "Requirement already satisfied: traitlets>=4.2 in /opt/conda/lib/python3.9/site-packages (from ipython) (5.0.5)\n",
            "Requirement already satisfied: parso<0.9.0,>=0.8.0 in /opt/conda/lib/python3.9/site-packages (from jedi>=0.16->ipython) (0.8.2)\n",
            "Requirement already satisfied: ptyprocess>=0.5 in /opt/conda/lib/python3.9/site-packages (from pexpect>4.3->ipython) (0.7.0)\n",
            "Requirement already satisfied: wcwidth in /opt/conda/lib/python3.9/site-packages (from prompt-toolkit!=3.0.0,!=3.0.1,<3.1.0,>=2.0.0->ipython) (0.2.5)\n",
            "Requirement already satisfied: ipython-genutils in /opt/conda/lib/python3.9/site-packages (from traitlets>=4.2->ipython) (0.2.0)\n"
          ]
        }
      ],
      "source": [
        "# Cargamos las librerías\n",
        "\n",
        "import numpy as np\n",
        "import pandas as pd\n",
        "import math\n",
        "import seaborn as sns\n",
        "import matplotlib.pyplot as plt\n",
        "\n",
        "from sklearn.metrics import mean_squared_error\n",
        "from scipy.stats import spearmanr\n",
        "from scipy.stats import randint\n",
        "\n",
        "import xgboost as xgb\n",
        "from catboost import CatBoostRegressor\n",
        "import lightgbm as lgbm\n",
        "from sklearn.model_selection import train_test_split\n",
        "from sklearn.linear_model import LinearRegression\n",
        "from sklearn.ensemble import RandomForestRegressor\n",
        "\n",
        "from sklearn.model_selection import RandomizedSearchCV\n",
        "!pip install ipython"
      ]
    },
    {
      "cell_type": "code",
      "execution_count": null,
      "metadata": {
        "id": "QlFLwbn0grUh"
      },
      "outputs": [],
      "source": [
        "# Cargamos los datos\n",
        "df = pd.read_csv(\"/datasets/car_data.csv\")"
      ]
    },
    {
      "cell_type": "code",
      "execution_count": null,
      "metadata": {
        "scrolled": true,
        "id": "9fvGoelHgrUi",
        "outputId": "34594518-425c-418b-dd19-09d371ce3c39"
      },
      "outputs": [
        {
          "data": {
            "text/html": [
              "<div>\n",
              "<style scoped>\n",
              "    .dataframe tbody tr th:only-of-type {\n",
              "        vertical-align: middle;\n",
              "    }\n",
              "\n",
              "    .dataframe tbody tr th {\n",
              "        vertical-align: top;\n",
              "    }\n",
              "\n",
              "    .dataframe thead th {\n",
              "        text-align: right;\n",
              "    }\n",
              "</style>\n",
              "<table border=\"1\" class=\"dataframe\">\n",
              "  <thead>\n",
              "    <tr style=\"text-align: right;\">\n",
              "      <th></th>\n",
              "      <th>DateCrawled</th>\n",
              "      <th>Price</th>\n",
              "      <th>VehicleType</th>\n",
              "      <th>RegistrationYear</th>\n",
              "      <th>Gearbox</th>\n",
              "      <th>Power</th>\n",
              "      <th>Model</th>\n",
              "      <th>Mileage</th>\n",
              "      <th>RegistrationMonth</th>\n",
              "      <th>FuelType</th>\n",
              "      <th>Brand</th>\n",
              "      <th>NotRepaired</th>\n",
              "      <th>DateCreated</th>\n",
              "      <th>NumberOfPictures</th>\n",
              "      <th>PostalCode</th>\n",
              "      <th>LastSeen</th>\n",
              "    </tr>\n",
              "  </thead>\n",
              "  <tbody>\n",
              "    <tr>\n",
              "      <th>0</th>\n",
              "      <td>24/03/2016 11:52</td>\n",
              "      <td>480</td>\n",
              "      <td>NaN</td>\n",
              "      <td>1993</td>\n",
              "      <td>manual</td>\n",
              "      <td>0</td>\n",
              "      <td>golf</td>\n",
              "      <td>150000</td>\n",
              "      <td>0</td>\n",
              "      <td>petrol</td>\n",
              "      <td>volkswagen</td>\n",
              "      <td>NaN</td>\n",
              "      <td>24/03/2016 00:00</td>\n",
              "      <td>0</td>\n",
              "      <td>70435</td>\n",
              "      <td>07/04/2016 03:16</td>\n",
              "    </tr>\n",
              "    <tr>\n",
              "      <th>1</th>\n",
              "      <td>24/03/2016 10:58</td>\n",
              "      <td>18300</td>\n",
              "      <td>coupe</td>\n",
              "      <td>2011</td>\n",
              "      <td>manual</td>\n",
              "      <td>190</td>\n",
              "      <td>NaN</td>\n",
              "      <td>125000</td>\n",
              "      <td>5</td>\n",
              "      <td>gasoline</td>\n",
              "      <td>audi</td>\n",
              "      <td>yes</td>\n",
              "      <td>24/03/2016 00:00</td>\n",
              "      <td>0</td>\n",
              "      <td>66954</td>\n",
              "      <td>07/04/2016 01:46</td>\n",
              "    </tr>\n",
              "    <tr>\n",
              "      <th>2</th>\n",
              "      <td>14/03/2016 12:52</td>\n",
              "      <td>9800</td>\n",
              "      <td>suv</td>\n",
              "      <td>2004</td>\n",
              "      <td>auto</td>\n",
              "      <td>163</td>\n",
              "      <td>grand</td>\n",
              "      <td>125000</td>\n",
              "      <td>8</td>\n",
              "      <td>gasoline</td>\n",
              "      <td>jeep</td>\n",
              "      <td>NaN</td>\n",
              "      <td>14/03/2016 00:00</td>\n",
              "      <td>0</td>\n",
              "      <td>90480</td>\n",
              "      <td>05/04/2016 12:47</td>\n",
              "    </tr>\n",
              "    <tr>\n",
              "      <th>3</th>\n",
              "      <td>17/03/2016 16:54</td>\n",
              "      <td>1500</td>\n",
              "      <td>small</td>\n",
              "      <td>2001</td>\n",
              "      <td>manual</td>\n",
              "      <td>75</td>\n",
              "      <td>golf</td>\n",
              "      <td>150000</td>\n",
              "      <td>6</td>\n",
              "      <td>petrol</td>\n",
              "      <td>volkswagen</td>\n",
              "      <td>no</td>\n",
              "      <td>17/03/2016 00:00</td>\n",
              "      <td>0</td>\n",
              "      <td>91074</td>\n",
              "      <td>17/03/2016 17:40</td>\n",
              "    </tr>\n",
              "    <tr>\n",
              "      <th>4</th>\n",
              "      <td>31/03/2016 17:25</td>\n",
              "      <td>3600</td>\n",
              "      <td>small</td>\n",
              "      <td>2008</td>\n",
              "      <td>manual</td>\n",
              "      <td>69</td>\n",
              "      <td>fabia</td>\n",
              "      <td>90000</td>\n",
              "      <td>7</td>\n",
              "      <td>gasoline</td>\n",
              "      <td>skoda</td>\n",
              "      <td>no</td>\n",
              "      <td>31/03/2016 00:00</td>\n",
              "      <td>0</td>\n",
              "      <td>60437</td>\n",
              "      <td>06/04/2016 10:17</td>\n",
              "    </tr>\n",
              "  </tbody>\n",
              "</table>\n",
              "</div>"
            ],
            "text/plain": [
              "        DateCrawled  Price VehicleType  RegistrationYear Gearbox  Power  \\\n",
              "0  24/03/2016 11:52    480         NaN              1993  manual      0   \n",
              "1  24/03/2016 10:58  18300       coupe              2011  manual    190   \n",
              "2  14/03/2016 12:52   9800         suv              2004    auto    163   \n",
              "3  17/03/2016 16:54   1500       small              2001  manual     75   \n",
              "4  31/03/2016 17:25   3600       small              2008  manual     69   \n",
              "\n",
              "   Model  Mileage  RegistrationMonth  FuelType       Brand NotRepaired  \\\n",
              "0   golf   150000                  0    petrol  volkswagen         NaN   \n",
              "1    NaN   125000                  5  gasoline        audi         yes   \n",
              "2  grand   125000                  8  gasoline        jeep         NaN   \n",
              "3   golf   150000                  6    petrol  volkswagen          no   \n",
              "4  fabia    90000                  7  gasoline       skoda          no   \n",
              "\n",
              "        DateCreated  NumberOfPictures  PostalCode          LastSeen  \n",
              "0  24/03/2016 00:00                 0       70435  07/04/2016 03:16  \n",
              "1  24/03/2016 00:00                 0       66954  07/04/2016 01:46  \n",
              "2  14/03/2016 00:00                 0       90480  05/04/2016 12:47  \n",
              "3  17/03/2016 00:00                 0       91074  17/03/2016 17:40  \n",
              "4  31/03/2016 00:00                 0       60437  06/04/2016 10:17  "
            ]
          },
          "execution_count": 3,
          "metadata": {},
          "output_type": "execute_result"
        }
      ],
      "source": [
        "# Observamos la tabla\n",
        "df.head()"
      ]
    },
    {
      "cell_type": "code",
      "execution_count": null,
      "metadata": {
        "scrolled": false,
        "id": "rtz3-y6SgrUi",
        "outputId": "71f5d00d-6bde-4413-9b16-b71014bec0c5"
      },
      "outputs": [
        {
          "name": "stdout",
          "output_type": "stream",
          "text": [
            "<class 'pandas.core.frame.DataFrame'>\n",
            "RangeIndex: 354369 entries, 0 to 354368\n",
            "Data columns (total 16 columns):\n",
            " #   Column             Non-Null Count   Dtype \n",
            "---  ------             --------------   ----- \n",
            " 0   DateCrawled        354369 non-null  object\n",
            " 1   Price              354369 non-null  int64 \n",
            " 2   VehicleType        316879 non-null  object\n",
            " 3   RegistrationYear   354369 non-null  int64 \n",
            " 4   Gearbox            334536 non-null  object\n",
            " 5   Power              354369 non-null  int64 \n",
            " 6   Model              334664 non-null  object\n",
            " 7   Mileage            354369 non-null  int64 \n",
            " 8   RegistrationMonth  354369 non-null  int64 \n",
            " 9   FuelType           321474 non-null  object\n",
            " 10  Brand              354369 non-null  object\n",
            " 11  NotRepaired        283215 non-null  object\n",
            " 12  DateCreated        354369 non-null  object\n",
            " 13  NumberOfPictures   354369 non-null  int64 \n",
            " 14  PostalCode         354369 non-null  int64 \n",
            " 15  LastSeen           354369 non-null  object\n",
            "dtypes: int64(7), object(9)\n",
            "memory usage: 43.3+ MB\n"
          ]
        }
      ],
      "source": [
        "# Revisamos la información general\n",
        "df.info()"
      ]
    },
    {
      "cell_type": "code",
      "execution_count": null,
      "metadata": {
        "scrolled": false,
        "id": "--efEqA5grUj",
        "outputId": "3a1bfe13-3267-477b-b436-03cb991e9d7d"
      },
      "outputs": [
        {
          "data": {
            "text/html": [
              "<div>\n",
              "<style scoped>\n",
              "    .dataframe tbody tr th:only-of-type {\n",
              "        vertical-align: middle;\n",
              "    }\n",
              "\n",
              "    .dataframe tbody tr th {\n",
              "        vertical-align: top;\n",
              "    }\n",
              "\n",
              "    .dataframe thead th {\n",
              "        text-align: right;\n",
              "    }\n",
              "</style>\n",
              "<table border=\"1\" class=\"dataframe\">\n",
              "  <thead>\n",
              "    <tr style=\"text-align: right;\">\n",
              "      <th></th>\n",
              "      <th>Price</th>\n",
              "      <th>RegistrationYear</th>\n",
              "      <th>Power</th>\n",
              "      <th>Mileage</th>\n",
              "      <th>RegistrationMonth</th>\n",
              "      <th>NumberOfPictures</th>\n",
              "      <th>PostalCode</th>\n",
              "    </tr>\n",
              "  </thead>\n",
              "  <tbody>\n",
              "    <tr>\n",
              "      <th>count</th>\n",
              "      <td>354369.000000</td>\n",
              "      <td>354369.000000</td>\n",
              "      <td>354369.000000</td>\n",
              "      <td>354369.000000</td>\n",
              "      <td>354369.000000</td>\n",
              "      <td>354369.0</td>\n",
              "      <td>354369.000000</td>\n",
              "    </tr>\n",
              "    <tr>\n",
              "      <th>mean</th>\n",
              "      <td>4416.656776</td>\n",
              "      <td>2004.234448</td>\n",
              "      <td>110.094337</td>\n",
              "      <td>128211.172535</td>\n",
              "      <td>5.714645</td>\n",
              "      <td>0.0</td>\n",
              "      <td>50508.689087</td>\n",
              "    </tr>\n",
              "    <tr>\n",
              "      <th>std</th>\n",
              "      <td>4514.158514</td>\n",
              "      <td>90.227958</td>\n",
              "      <td>189.850405</td>\n",
              "      <td>37905.341530</td>\n",
              "      <td>3.726421</td>\n",
              "      <td>0.0</td>\n",
              "      <td>25783.096248</td>\n",
              "    </tr>\n",
              "    <tr>\n",
              "      <th>min</th>\n",
              "      <td>0.000000</td>\n",
              "      <td>1000.000000</td>\n",
              "      <td>0.000000</td>\n",
              "      <td>5000.000000</td>\n",
              "      <td>0.000000</td>\n",
              "      <td>0.0</td>\n",
              "      <td>1067.000000</td>\n",
              "    </tr>\n",
              "    <tr>\n",
              "      <th>25%</th>\n",
              "      <td>1050.000000</td>\n",
              "      <td>1999.000000</td>\n",
              "      <td>69.000000</td>\n",
              "      <td>125000.000000</td>\n",
              "      <td>3.000000</td>\n",
              "      <td>0.0</td>\n",
              "      <td>30165.000000</td>\n",
              "    </tr>\n",
              "    <tr>\n",
              "      <th>50%</th>\n",
              "      <td>2700.000000</td>\n",
              "      <td>2003.000000</td>\n",
              "      <td>105.000000</td>\n",
              "      <td>150000.000000</td>\n",
              "      <td>6.000000</td>\n",
              "      <td>0.0</td>\n",
              "      <td>49413.000000</td>\n",
              "    </tr>\n",
              "    <tr>\n",
              "      <th>75%</th>\n",
              "      <td>6400.000000</td>\n",
              "      <td>2008.000000</td>\n",
              "      <td>143.000000</td>\n",
              "      <td>150000.000000</td>\n",
              "      <td>9.000000</td>\n",
              "      <td>0.0</td>\n",
              "      <td>71083.000000</td>\n",
              "    </tr>\n",
              "    <tr>\n",
              "      <th>max</th>\n",
              "      <td>20000.000000</td>\n",
              "      <td>9999.000000</td>\n",
              "      <td>20000.000000</td>\n",
              "      <td>150000.000000</td>\n",
              "      <td>12.000000</td>\n",
              "      <td>0.0</td>\n",
              "      <td>99998.000000</td>\n",
              "    </tr>\n",
              "  </tbody>\n",
              "</table>\n",
              "</div>"
            ],
            "text/plain": [
              "               Price  RegistrationYear          Power        Mileage  \\\n",
              "count  354369.000000     354369.000000  354369.000000  354369.000000   \n",
              "mean     4416.656776       2004.234448     110.094337  128211.172535   \n",
              "std      4514.158514         90.227958     189.850405   37905.341530   \n",
              "min         0.000000       1000.000000       0.000000    5000.000000   \n",
              "25%      1050.000000       1999.000000      69.000000  125000.000000   \n",
              "50%      2700.000000       2003.000000     105.000000  150000.000000   \n",
              "75%      6400.000000       2008.000000     143.000000  150000.000000   \n",
              "max     20000.000000       9999.000000   20000.000000  150000.000000   \n",
              "\n",
              "       RegistrationMonth  NumberOfPictures     PostalCode  \n",
              "count      354369.000000          354369.0  354369.000000  \n",
              "mean            5.714645               0.0   50508.689087  \n",
              "std             3.726421               0.0   25783.096248  \n",
              "min             0.000000               0.0    1067.000000  \n",
              "25%             3.000000               0.0   30165.000000  \n",
              "50%             6.000000               0.0   49413.000000  \n",
              "75%             9.000000               0.0   71083.000000  \n",
              "max            12.000000               0.0   99998.000000  "
            ]
          },
          "execution_count": 5,
          "metadata": {},
          "output_type": "execute_result"
        }
      ],
      "source": [
        "# Revisamos su distribución\n",
        "df.describe()"
      ]
    },
    {
      "cell_type": "markdown",
      "metadata": {
        "id": "5JXg2wf9grUj"
      },
      "source": [
        "A continuación revisaremos y abordaremos el formato de las columnas, el formato de los nombres de las columnas, valores ausentes y valores duplicados. Además abordaremos otros problemas."
      ]
    },
    {
      "cell_type": "markdown",
      "metadata": {
        "id": "yiiAEs0EgrUj"
      },
      "source": [
        "Al observar la distribución, pudimos ver que hay valores 0 en 'power'. **Antes que nada abordaremos esta situación para evitar sesgos en futuros cálculos**."
      ]
    },
    {
      "cell_type": "code",
      "execution_count": null,
      "metadata": {
        "scrolled": false,
        "id": "RHfKbDmigrUk",
        "outputId": "d22fe26d-7743-45ec-9920-0ed7412291cf"
      },
      "outputs": [
        {
          "data": {
            "text/html": [
              "<div>\n",
              "<style scoped>\n",
              "    .dataframe tbody tr th:only-of-type {\n",
              "        vertical-align: middle;\n",
              "    }\n",
              "\n",
              "    .dataframe tbody tr th {\n",
              "        vertical-align: top;\n",
              "    }\n",
              "\n",
              "    .dataframe thead th {\n",
              "        text-align: right;\n",
              "    }\n",
              "</style>\n",
              "<table border=\"1\" class=\"dataframe\">\n",
              "  <thead>\n",
              "    <tr style=\"text-align: right;\">\n",
              "      <th></th>\n",
              "      <th>DateCrawled</th>\n",
              "      <th>Price</th>\n",
              "      <th>VehicleType</th>\n",
              "      <th>RegistrationYear</th>\n",
              "      <th>Gearbox</th>\n",
              "      <th>Power</th>\n",
              "      <th>Model</th>\n",
              "      <th>Mileage</th>\n",
              "      <th>RegistrationMonth</th>\n",
              "      <th>FuelType</th>\n",
              "      <th>Brand</th>\n",
              "      <th>NotRepaired</th>\n",
              "      <th>DateCreated</th>\n",
              "      <th>NumberOfPictures</th>\n",
              "      <th>PostalCode</th>\n",
              "      <th>LastSeen</th>\n",
              "    </tr>\n",
              "  </thead>\n",
              "  <tbody>\n",
              "    <tr>\n",
              "      <th>0</th>\n",
              "      <td>24/03/2016 11:52</td>\n",
              "      <td>480</td>\n",
              "      <td>NaN</td>\n",
              "      <td>1993</td>\n",
              "      <td>manual</td>\n",
              "      <td>0</td>\n",
              "      <td>golf</td>\n",
              "      <td>150000</td>\n",
              "      <td>0</td>\n",
              "      <td>petrol</td>\n",
              "      <td>volkswagen</td>\n",
              "      <td>NaN</td>\n",
              "      <td>24/03/2016 00:00</td>\n",
              "      <td>0</td>\n",
              "      <td>70435</td>\n",
              "      <td>07/04/2016 03:16</td>\n",
              "    </tr>\n",
              "    <tr>\n",
              "      <th>15</th>\n",
              "      <td>11/03/2016 21:39</td>\n",
              "      <td>450</td>\n",
              "      <td>small</td>\n",
              "      <td>1910</td>\n",
              "      <td>NaN</td>\n",
              "      <td>0</td>\n",
              "      <td>ka</td>\n",
              "      <td>5000</td>\n",
              "      <td>0</td>\n",
              "      <td>petrol</td>\n",
              "      <td>ford</td>\n",
              "      <td>NaN</td>\n",
              "      <td>11/03/2016 00:00</td>\n",
              "      <td>0</td>\n",
              "      <td>24148</td>\n",
              "      <td>19/03/2016 08:46</td>\n",
              "    </tr>\n",
              "    <tr>\n",
              "      <th>32</th>\n",
              "      <td>15/03/2016 20:59</td>\n",
              "      <td>245</td>\n",
              "      <td>sedan</td>\n",
              "      <td>1994</td>\n",
              "      <td>NaN</td>\n",
              "      <td>0</td>\n",
              "      <td>golf</td>\n",
              "      <td>150000</td>\n",
              "      <td>2</td>\n",
              "      <td>petrol</td>\n",
              "      <td>volkswagen</td>\n",
              "      <td>no</td>\n",
              "      <td>15/03/2016 00:00</td>\n",
              "      <td>0</td>\n",
              "      <td>44145</td>\n",
              "      <td>17/03/2016 18:17</td>\n",
              "    </tr>\n",
              "    <tr>\n",
              "      <th>37</th>\n",
              "      <td>28/03/2016 17:50</td>\n",
              "      <td>1500</td>\n",
              "      <td>NaN</td>\n",
              "      <td>2016</td>\n",
              "      <td>NaN</td>\n",
              "      <td>0</td>\n",
              "      <td>kangoo</td>\n",
              "      <td>150000</td>\n",
              "      <td>1</td>\n",
              "      <td>gasoline</td>\n",
              "      <td>renault</td>\n",
              "      <td>no</td>\n",
              "      <td>28/03/2016 00:00</td>\n",
              "      <td>0</td>\n",
              "      <td>46483</td>\n",
              "      <td>30/03/2016 09:18</td>\n",
              "    </tr>\n",
              "    <tr>\n",
              "      <th>40</th>\n",
              "      <td>26/03/2016 22:06</td>\n",
              "      <td>0</td>\n",
              "      <td>NaN</td>\n",
              "      <td>1990</td>\n",
              "      <td>NaN</td>\n",
              "      <td>0</td>\n",
              "      <td>corsa</td>\n",
              "      <td>150000</td>\n",
              "      <td>1</td>\n",
              "      <td>petrol</td>\n",
              "      <td>opel</td>\n",
              "      <td>NaN</td>\n",
              "      <td>26/03/2016 00:00</td>\n",
              "      <td>0</td>\n",
              "      <td>56412</td>\n",
              "      <td>27/03/2016 17:43</td>\n",
              "    </tr>\n",
              "    <tr>\n",
              "      <th>...</th>\n",
              "      <td>...</td>\n",
              "      <td>...</td>\n",
              "      <td>...</td>\n",
              "      <td>...</td>\n",
              "      <td>...</td>\n",
              "      <td>...</td>\n",
              "      <td>...</td>\n",
              "      <td>...</td>\n",
              "      <td>...</td>\n",
              "      <td>...</td>\n",
              "      <td>...</td>\n",
              "      <td>...</td>\n",
              "      <td>...</td>\n",
              "      <td>...</td>\n",
              "      <td>...</td>\n",
              "      <td>...</td>\n",
              "    </tr>\n",
              "    <tr>\n",
              "      <th>354338</th>\n",
              "      <td>31/03/2016 19:52</td>\n",
              "      <td>180</td>\n",
              "      <td>NaN</td>\n",
              "      <td>1995</td>\n",
              "      <td>NaN</td>\n",
              "      <td>0</td>\n",
              "      <td>NaN</td>\n",
              "      <td>125000</td>\n",
              "      <td>3</td>\n",
              "      <td>petrol</td>\n",
              "      <td>opel</td>\n",
              "      <td>NaN</td>\n",
              "      <td>31/03/2016 00:00</td>\n",
              "      <td>0</td>\n",
              "      <td>41470</td>\n",
              "      <td>06/04/2016 14:18</td>\n",
              "    </tr>\n",
              "    <tr>\n",
              "      <th>354346</th>\n",
              "      <td>07/03/2016 17:06</td>\n",
              "      <td>2600</td>\n",
              "      <td>NaN</td>\n",
              "      <td>2005</td>\n",
              "      <td>auto</td>\n",
              "      <td>0</td>\n",
              "      <td>c_klasse</td>\n",
              "      <td>150000</td>\n",
              "      <td>9</td>\n",
              "      <td>NaN</td>\n",
              "      <td>mercedes_benz</td>\n",
              "      <td>NaN</td>\n",
              "      <td>07/03/2016 00:00</td>\n",
              "      <td>0</td>\n",
              "      <td>61169</td>\n",
              "      <td>08/03/2016 21:28</td>\n",
              "    </tr>\n",
              "    <tr>\n",
              "      <th>354363</th>\n",
              "      <td>27/03/2016 20:36</td>\n",
              "      <td>1150</td>\n",
              "      <td>bus</td>\n",
              "      <td>2000</td>\n",
              "      <td>manual</td>\n",
              "      <td>0</td>\n",
              "      <td>zafira</td>\n",
              "      <td>150000</td>\n",
              "      <td>3</td>\n",
              "      <td>petrol</td>\n",
              "      <td>opel</td>\n",
              "      <td>no</td>\n",
              "      <td>27/03/2016 00:00</td>\n",
              "      <td>0</td>\n",
              "      <td>26624</td>\n",
              "      <td>29/03/2016 10:17</td>\n",
              "    </tr>\n",
              "    <tr>\n",
              "      <th>354364</th>\n",
              "      <td>21/03/2016 09:50</td>\n",
              "      <td>0</td>\n",
              "      <td>NaN</td>\n",
              "      <td>2005</td>\n",
              "      <td>manual</td>\n",
              "      <td>0</td>\n",
              "      <td>colt</td>\n",
              "      <td>150000</td>\n",
              "      <td>7</td>\n",
              "      <td>petrol</td>\n",
              "      <td>mitsubishi</td>\n",
              "      <td>yes</td>\n",
              "      <td>21/03/2016 00:00</td>\n",
              "      <td>0</td>\n",
              "      <td>2694</td>\n",
              "      <td>21/03/2016 10:42</td>\n",
              "    </tr>\n",
              "    <tr>\n",
              "      <th>354365</th>\n",
              "      <td>14/03/2016 17:48</td>\n",
              "      <td>2200</td>\n",
              "      <td>NaN</td>\n",
              "      <td>2005</td>\n",
              "      <td>NaN</td>\n",
              "      <td>0</td>\n",
              "      <td>NaN</td>\n",
              "      <td>20000</td>\n",
              "      <td>1</td>\n",
              "      <td>NaN</td>\n",
              "      <td>sonstige_autos</td>\n",
              "      <td>NaN</td>\n",
              "      <td>14/03/2016 00:00</td>\n",
              "      <td>0</td>\n",
              "      <td>39576</td>\n",
              "      <td>06/04/2016 00:46</td>\n",
              "    </tr>\n",
              "  </tbody>\n",
              "</table>\n",
              "<p>40225 rows × 16 columns</p>\n",
              "</div>"
            ],
            "text/plain": [
              "             DateCrawled  Price VehicleType  RegistrationYear Gearbox  Power  \\\n",
              "0       24/03/2016 11:52    480         NaN              1993  manual      0   \n",
              "15      11/03/2016 21:39    450       small              1910     NaN      0   \n",
              "32      15/03/2016 20:59    245       sedan              1994     NaN      0   \n",
              "37      28/03/2016 17:50   1500         NaN              2016     NaN      0   \n",
              "40      26/03/2016 22:06      0         NaN              1990     NaN      0   \n",
              "...                  ...    ...         ...               ...     ...    ...   \n",
              "354338  31/03/2016 19:52    180         NaN              1995     NaN      0   \n",
              "354346  07/03/2016 17:06   2600         NaN              2005    auto      0   \n",
              "354363  27/03/2016 20:36   1150         bus              2000  manual      0   \n",
              "354364  21/03/2016 09:50      0         NaN              2005  manual      0   \n",
              "354365  14/03/2016 17:48   2200         NaN              2005     NaN      0   \n",
              "\n",
              "           Model  Mileage  RegistrationMonth  FuelType           Brand  \\\n",
              "0           golf   150000                  0    petrol      volkswagen   \n",
              "15            ka     5000                  0    petrol            ford   \n",
              "32          golf   150000                  2    petrol      volkswagen   \n",
              "37        kangoo   150000                  1  gasoline         renault   \n",
              "40         corsa   150000                  1    petrol            opel   \n",
              "...          ...      ...                ...       ...             ...   \n",
              "354338       NaN   125000                  3    petrol            opel   \n",
              "354346  c_klasse   150000                  9       NaN   mercedes_benz   \n",
              "354363    zafira   150000                  3    petrol            opel   \n",
              "354364      colt   150000                  7    petrol      mitsubishi   \n",
              "354365       NaN    20000                  1       NaN  sonstige_autos   \n",
              "\n",
              "       NotRepaired       DateCreated  NumberOfPictures  PostalCode  \\\n",
              "0              NaN  24/03/2016 00:00                 0       70435   \n",
              "15             NaN  11/03/2016 00:00                 0       24148   \n",
              "32              no  15/03/2016 00:00                 0       44145   \n",
              "37              no  28/03/2016 00:00                 0       46483   \n",
              "40             NaN  26/03/2016 00:00                 0       56412   \n",
              "...            ...               ...               ...         ...   \n",
              "354338         NaN  31/03/2016 00:00                 0       41470   \n",
              "354346         NaN  07/03/2016 00:00                 0       61169   \n",
              "354363          no  27/03/2016 00:00                 0       26624   \n",
              "354364         yes  21/03/2016 00:00                 0        2694   \n",
              "354365         NaN  14/03/2016 00:00                 0       39576   \n",
              "\n",
              "                LastSeen  \n",
              "0       07/04/2016 03:16  \n",
              "15      19/03/2016 08:46  \n",
              "32      17/03/2016 18:17  \n",
              "37      30/03/2016 09:18  \n",
              "40      27/03/2016 17:43  \n",
              "...                  ...  \n",
              "354338  06/04/2016 14:18  \n",
              "354346  08/03/2016 21:28  \n",
              "354363  29/03/2016 10:17  \n",
              "354364  21/03/2016 10:42  \n",
              "354365  06/04/2016 00:46  \n",
              "\n",
              "[40225 rows x 16 columns]"
            ]
          },
          "execution_count": 6,
          "metadata": {},
          "output_type": "execute_result"
        }
      ],
      "source": [
        "# Revisamos qué ocurre\n",
        "df[df[\"Power\"] == 0]"
      ]
    },
    {
      "cell_type": "markdown",
      "metadata": {
        "id": "ED5fFvrBgrUk"
      },
      "source": [
        "Esto ocurre para varios modelos. Lo que podemos hacer aquí es imputar 'Power' con la mediana en relación a los modelos."
      ]
    },
    {
      "cell_type": "code",
      "execution_count": null,
      "metadata": {
        "id": "dqr5RVxcgrUk"
      },
      "outputs": [],
      "source": [
        "# Para evitar problemas imputamos los NaN de 'car_model' con 'Unknown_Model'\n",
        "df['Model'].fillna('Unknown_Model', inplace=True)\n",
        "\n",
        "# Calculamos las medianas\n",
        "median_power_by_model = df.groupby('Model')['Power'].median()\n",
        "\n",
        "# Función para imputar valores 0 en 'Power' según el modelo\n",
        "def impute_power(row):\n",
        "    if row['Power'] == 0:\n",
        "        return median_power_by_model.get(row['Model'], 0)\n",
        "    return row['Power']\n",
        "\n",
        "# Aplicamos la función\n",
        "df['Power'] = df.apply(impute_power, axis=1)\n"
      ]
    },
    {
      "cell_type": "code",
      "execution_count": null,
      "metadata": {
        "scrolled": false,
        "id": "9tmkXogvgrUk",
        "outputId": "4e98a1df-8cf5-4643-cafc-ba5535b79807"
      },
      "outputs": [
        {
          "data": {
            "text/plain": [
              "10"
            ]
          },
          "execution_count": 8,
          "metadata": {},
          "output_type": "execute_result"
        }
      ],
      "source": [
        "len(df[df[\"Power\"] == 0])"
      ]
    },
    {
      "cell_type": "markdown",
      "metadata": {
        "id": "xonZzrkfgrUl"
      },
      "source": [
        "Ahora solo hay 10 valores con 0, estos los descartaremos."
      ]
    },
    {
      "cell_type": "code",
      "execution_count": null,
      "metadata": {
        "id": "8DNC5FtcgrUl"
      },
      "outputs": [],
      "source": [
        "# Descartamos los 0\n",
        "df = df[df[\"Power\"] != 0]"
      ]
    },
    {
      "cell_type": "code",
      "execution_count": null,
      "metadata": {
        "scrolled": false,
        "id": "iHQ5XTZSgrUl",
        "outputId": "026c456b-77fd-43ad-99f9-0442b8b0907f"
      },
      "outputs": [
        {
          "data": {
            "text/plain": [
              "0"
            ]
          },
          "execution_count": 10,
          "metadata": {},
          "output_type": "execute_result"
        }
      ],
      "source": [
        "# Revisamos los cambios\n",
        "len(df[df[\"Power\"] == 0])"
      ]
    },
    {
      "cell_type": "markdown",
      "metadata": {
        "id": "FCWhrthCgrUl"
      },
      "source": [
        "En 'Power' también podemos encontrar otros valores extraños. Aquí es razonable establecer un mínimo 'normal' ya que esto representa la potencia del motor de los vehículos. **Estableceremos 40 como valor mínimo, valor que hemos encontrado en una fuente confiable**."
      ]
    },
    {
      "cell_type": "code",
      "execution_count": null,
      "metadata": {
        "scrolled": true,
        "id": "YJ89eMpQgrUl",
        "outputId": "a5977b57-91af-424d-cf5f-e9516f73e45a"
      },
      "outputs": [
        {
          "data": {
            "text/html": [
              "<div>\n",
              "<style scoped>\n",
              "    .dataframe tbody tr th:only-of-type {\n",
              "        vertical-align: middle;\n",
              "    }\n",
              "\n",
              "    .dataframe tbody tr th {\n",
              "        vertical-align: top;\n",
              "    }\n",
              "\n",
              "    .dataframe thead th {\n",
              "        text-align: right;\n",
              "    }\n",
              "</style>\n",
              "<table border=\"1\" class=\"dataframe\">\n",
              "  <thead>\n",
              "    <tr style=\"text-align: right;\">\n",
              "      <th></th>\n",
              "      <th>Price</th>\n",
              "      <th>RegistrationYear</th>\n",
              "      <th>Power</th>\n",
              "      <th>Mileage</th>\n",
              "      <th>RegistrationMonth</th>\n",
              "      <th>NumberOfPictures</th>\n",
              "      <th>PostalCode</th>\n",
              "    </tr>\n",
              "  </thead>\n",
              "  <tbody>\n",
              "    <tr>\n",
              "      <th>count</th>\n",
              "      <td>354359.000000</td>\n",
              "      <td>354359.000000</td>\n",
              "      <td>354359.000000</td>\n",
              "      <td>354359.000000</td>\n",
              "      <td>354359.000000</td>\n",
              "      <td>354359.0</td>\n",
              "      <td>354359.000000</td>\n",
              "    </tr>\n",
              "    <tr>\n",
              "      <th>mean</th>\n",
              "      <td>4416.759696</td>\n",
              "      <td>2004.234663</td>\n",
              "      <td>121.411014</td>\n",
              "      <td>128211.968653</td>\n",
              "      <td>5.714753</td>\n",
              "      <td>0.0</td>\n",
              "      <td>50509.061082</td>\n",
              "    </tr>\n",
              "    <tr>\n",
              "      <th>std</th>\n",
              "      <td>4514.176251</td>\n",
              "      <td>90.229188</td>\n",
              "      <td>186.306695</td>\n",
              "      <td>37905.085024</td>\n",
              "      <td>3.726380</td>\n",
              "      <td>0.0</td>\n",
              "      <td>25783.034433</td>\n",
              "    </tr>\n",
              "    <tr>\n",
              "      <th>min</th>\n",
              "      <td>0.000000</td>\n",
              "      <td>1000.000000</td>\n",
              "      <td>1.000000</td>\n",
              "      <td>5000.000000</td>\n",
              "      <td>0.000000</td>\n",
              "      <td>0.0</td>\n",
              "      <td>1067.000000</td>\n",
              "    </tr>\n",
              "    <tr>\n",
              "      <th>25%</th>\n",
              "      <td>1050.000000</td>\n",
              "      <td>1999.000000</td>\n",
              "      <td>75.000000</td>\n",
              "      <td>125000.000000</td>\n",
              "      <td>3.000000</td>\n",
              "      <td>0.0</td>\n",
              "      <td>30165.000000</td>\n",
              "    </tr>\n",
              "    <tr>\n",
              "      <th>50%</th>\n",
              "      <td>2700.000000</td>\n",
              "      <td>2003.000000</td>\n",
              "      <td>109.000000</td>\n",
              "      <td>150000.000000</td>\n",
              "      <td>6.000000</td>\n",
              "      <td>0.0</td>\n",
              "      <td>49413.000000</td>\n",
              "    </tr>\n",
              "    <tr>\n",
              "      <th>75%</th>\n",
              "      <td>6400.000000</td>\n",
              "      <td>2008.000000</td>\n",
              "      <td>143.000000</td>\n",
              "      <td>150000.000000</td>\n",
              "      <td>9.000000</td>\n",
              "      <td>0.0</td>\n",
              "      <td>71083.000000</td>\n",
              "    </tr>\n",
              "    <tr>\n",
              "      <th>max</th>\n",
              "      <td>20000.000000</td>\n",
              "      <td>9999.000000</td>\n",
              "      <td>20000.000000</td>\n",
              "      <td>150000.000000</td>\n",
              "      <td>12.000000</td>\n",
              "      <td>0.0</td>\n",
              "      <td>99998.000000</td>\n",
              "    </tr>\n",
              "  </tbody>\n",
              "</table>\n",
              "</div>"
            ],
            "text/plain": [
              "               Price  RegistrationYear          Power        Mileage  \\\n",
              "count  354359.000000     354359.000000  354359.000000  354359.000000   \n",
              "mean     4416.759696       2004.234663     121.411014  128211.968653   \n",
              "std      4514.176251         90.229188     186.306695   37905.085024   \n",
              "min         0.000000       1000.000000       1.000000    5000.000000   \n",
              "25%      1050.000000       1999.000000      75.000000  125000.000000   \n",
              "50%      2700.000000       2003.000000     109.000000  150000.000000   \n",
              "75%      6400.000000       2008.000000     143.000000  150000.000000   \n",
              "max     20000.000000       9999.000000   20000.000000  150000.000000   \n",
              "\n",
              "       RegistrationMonth  NumberOfPictures     PostalCode  \n",
              "count      354359.000000          354359.0  354359.000000  \n",
              "mean            5.714753               0.0   50509.061082  \n",
              "std             3.726380               0.0   25783.034433  \n",
              "min             0.000000               0.0    1067.000000  \n",
              "25%             3.000000               0.0   30165.000000  \n",
              "50%             6.000000               0.0   49413.000000  \n",
              "75%             9.000000               0.0   71083.000000  \n",
              "max            12.000000               0.0   99998.000000  "
            ]
          },
          "execution_count": 11,
          "metadata": {},
          "output_type": "execute_result"
        }
      ],
      "source": [
        "df.describe()"
      ]
    },
    {
      "cell_type": "code",
      "execution_count": null,
      "metadata": {
        "id": "N6yJqF8UgrUl",
        "outputId": "1274d200-6b35-4c1b-f109-31110f632e7c"
      },
      "outputs": [
        {
          "data": {
            "image/png": "[encoded data removed]",
            "text/plain": [
              "<Figure size 648x360 with 1 Axes>"
            ]
          },
          "metadata": {
            "needs_background": "light"
          },
          "output_type": "display_data"
        }
      ],
      "source": [
        "# Visualizamos valores atípicos\n",
        "\n",
        "plt.figure(figsize=(9, 5))\n",
        "plt.boxplot(df['Power'])\n",
        "plt.title('Distribución de \"Power\"')\n",
        "plt.grid(True)\n",
        "plt.show()"
      ]
    },
    {
      "cell_type": "markdown",
      "metadata": {
        "id": "OQbBQeiSgrUm"
      },
      "source": [
        "Podemos encontrar valores desde 1. Estableceremos el limite inferior como 40."
      ]
    },
    {
      "cell_type": "code",
      "execution_count": null,
      "metadata": {
        "id": "OUTH6o-agrUm"
      },
      "outputs": [],
      "source": [
        "# Calculamos límites superiores e inferiores\n",
        "Q1 = df['Power'].quantile(0.25)\n",
        "Q3 = df['Power'].quantile(0.75)\n",
        "IQR = Q3 - Q1\n",
        "\n",
        "#lower_power = Q1 - 1.5 * IQR\n",
        "lower_power = 40 ## En este caso estableceremos 40 como límite inferior\n",
        "upper_power = Q3 + 1.5 * IQR"
      ]
    },
    {
      "cell_type": "code",
      "execution_count": null,
      "metadata": {
        "id": "WamZOtccgrUm"
      },
      "outputs": [],
      "source": [
        "# Aplicamos los límites\n",
        "df = df[(df['Power'] >= lower_power) & (df['Power'] <= upper_power)]"
      ]
    },
    {
      "cell_type": "code",
      "execution_count": null,
      "metadata": {
        "id": "YPmN4_L6grUm",
        "outputId": "5a9a4631-dd1a-45bd-f5e6-d2c88dde57aa"
      },
      "outputs": [
        {
          "data": {
            "text/html": [
              "<div>\n",
              "<style scoped>\n",
              "    .dataframe tbody tr th:only-of-type {\n",
              "        vertical-align: middle;\n",
              "    }\n",
              "\n",
              "    .dataframe tbody tr th {\n",
              "        vertical-align: top;\n",
              "    }\n",
              "\n",
              "    .dataframe thead th {\n",
              "        text-align: right;\n",
              "    }\n",
              "</style>\n",
              "<table border=\"1\" class=\"dataframe\">\n",
              "  <thead>\n",
              "    <tr style=\"text-align: right;\">\n",
              "      <th></th>\n",
              "      <th>Price</th>\n",
              "      <th>RegistrationYear</th>\n",
              "      <th>Power</th>\n",
              "      <th>Mileage</th>\n",
              "      <th>RegistrationMonth</th>\n",
              "      <th>NumberOfPictures</th>\n",
              "      <th>PostalCode</th>\n",
              "    </tr>\n",
              "  </thead>\n",
              "  <tbody>\n",
              "    <tr>\n",
              "      <th>count</th>\n",
              "      <td>344211.00000</td>\n",
              "      <td>344211.000000</td>\n",
              "      <td>344211.000000</td>\n",
              "      <td>344211.000000</td>\n",
              "      <td>344211.000000</td>\n",
              "      <td>344211.0</td>\n",
              "      <td>344211.000000</td>\n",
              "    </tr>\n",
              "    <tr>\n",
              "      <th>mean</th>\n",
              "      <td>4277.54950</td>\n",
              "      <td>2004.264129</td>\n",
              "      <td>113.995504</td>\n",
              "      <td>128405.048066</td>\n",
              "      <td>5.710003</td>\n",
              "      <td>0.0</td>\n",
              "      <td>50496.938163</td>\n",
              "    </tr>\n",
              "    <tr>\n",
              "      <th>std</th>\n",
              "      <td>4385.20709</td>\n",
              "      <td>87.647637</td>\n",
              "      <td>44.196201</td>\n",
              "      <td>37687.671696</td>\n",
              "      <td>3.726767</td>\n",
              "      <td>0.0</td>\n",
              "      <td>25759.656807</td>\n",
              "    </tr>\n",
              "    <tr>\n",
              "      <th>min</th>\n",
              "      <td>0.00000</td>\n",
              "      <td>1000.000000</td>\n",
              "      <td>40.000000</td>\n",
              "      <td>5000.000000</td>\n",
              "      <td>0.000000</td>\n",
              "      <td>0.0</td>\n",
              "      <td>1067.000000</td>\n",
              "    </tr>\n",
              "    <tr>\n",
              "      <th>25%</th>\n",
              "      <td>1000.00000</td>\n",
              "      <td>1999.000000</td>\n",
              "      <td>75.000000</td>\n",
              "      <td>125000.000000</td>\n",
              "      <td>3.000000</td>\n",
              "      <td>0.0</td>\n",
              "      <td>30165.000000</td>\n",
              "    </tr>\n",
              "    <tr>\n",
              "      <th>50%</th>\n",
              "      <td>2600.00000</td>\n",
              "      <td>2003.000000</td>\n",
              "      <td>109.000000</td>\n",
              "      <td>150000.000000</td>\n",
              "      <td>6.000000</td>\n",
              "      <td>0.0</td>\n",
              "      <td>49406.000000</td>\n",
              "    </tr>\n",
              "    <tr>\n",
              "      <th>75%</th>\n",
              "      <td>6000.00000</td>\n",
              "      <td>2008.000000</td>\n",
              "      <td>141.000000</td>\n",
              "      <td>150000.000000</td>\n",
              "      <td>9.000000</td>\n",
              "      <td>0.0</td>\n",
              "      <td>71065.000000</td>\n",
              "    </tr>\n",
              "    <tr>\n",
              "      <th>max</th>\n",
              "      <td>20000.00000</td>\n",
              "      <td>9999.000000</td>\n",
              "      <td>245.000000</td>\n",
              "      <td>150000.000000</td>\n",
              "      <td>12.000000</td>\n",
              "      <td>0.0</td>\n",
              "      <td>99998.000000</td>\n",
              "    </tr>\n",
              "  </tbody>\n",
              "</table>\n",
              "</div>"
            ],
            "text/plain": [
              "              Price  RegistrationYear          Power        Mileage  \\\n",
              "count  344211.00000     344211.000000  344211.000000  344211.000000   \n",
              "mean     4277.54950       2004.264129     113.995504  128405.048066   \n",
              "std      4385.20709         87.647637      44.196201   37687.671696   \n",
              "min         0.00000       1000.000000      40.000000    5000.000000   \n",
              "25%      1000.00000       1999.000000      75.000000  125000.000000   \n",
              "50%      2600.00000       2003.000000     109.000000  150000.000000   \n",
              "75%      6000.00000       2008.000000     141.000000  150000.000000   \n",
              "max     20000.00000       9999.000000     245.000000  150000.000000   \n",
              "\n",
              "       RegistrationMonth  NumberOfPictures     PostalCode  \n",
              "count      344211.000000          344211.0  344211.000000  \n",
              "mean            5.710003               0.0   50496.938163  \n",
              "std             3.726767               0.0   25759.656807  \n",
              "min             0.000000               0.0    1067.000000  \n",
              "25%             3.000000               0.0   30165.000000  \n",
              "50%             6.000000               0.0   49406.000000  \n",
              "75%             9.000000               0.0   71065.000000  \n",
              "max            12.000000               0.0   99998.000000  "
            ]
          },
          "execution_count": 15,
          "metadata": {},
          "output_type": "execute_result"
        }
      ],
      "source": [
        "# Revisamos los cambios\n",
        "df.describe()"
      ]
    },
    {
      "cell_type": "markdown",
      "metadata": {
        "id": "Y5p2NaWdgrUm"
      },
      "source": [
        "En la columna 'Price' ocurre lo mismo."
      ]
    },
    {
      "cell_type": "code",
      "execution_count": null,
      "metadata": {
        "scrolled": true,
        "id": "5RytY-TugrUm",
        "outputId": "cea7e0fd-3a06-4d6a-86e4-4d3580747d84"
      },
      "outputs": [
        {
          "data": {
            "text/html": [
              "<div>\n",
              "<style scoped>\n",
              "    .dataframe tbody tr th:only-of-type {\n",
              "        vertical-align: middle;\n",
              "    }\n",
              "\n",
              "    .dataframe tbody tr th {\n",
              "        vertical-align: top;\n",
              "    }\n",
              "\n",
              "    .dataframe thead th {\n",
              "        text-align: right;\n",
              "    }\n",
              "</style>\n",
              "<table border=\"1\" class=\"dataframe\">\n",
              "  <thead>\n",
              "    <tr style=\"text-align: right;\">\n",
              "      <th></th>\n",
              "      <th>DateCrawled</th>\n",
              "      <th>Price</th>\n",
              "      <th>VehicleType</th>\n",
              "      <th>RegistrationYear</th>\n",
              "      <th>Gearbox</th>\n",
              "      <th>Power</th>\n",
              "      <th>Model</th>\n",
              "      <th>Mileage</th>\n",
              "      <th>RegistrationMonth</th>\n",
              "      <th>FuelType</th>\n",
              "      <th>Brand</th>\n",
              "      <th>NotRepaired</th>\n",
              "      <th>DateCreated</th>\n",
              "      <th>NumberOfPictures</th>\n",
              "      <th>PostalCode</th>\n",
              "      <th>LastSeen</th>\n",
              "    </tr>\n",
              "  </thead>\n",
              "  <tbody>\n",
              "    <tr>\n",
              "      <th>7</th>\n",
              "      <td>21/03/2016 18:54</td>\n",
              "      <td>0</td>\n",
              "      <td>sedan</td>\n",
              "      <td>1980</td>\n",
              "      <td>manual</td>\n",
              "      <td>50.0</td>\n",
              "      <td>other</td>\n",
              "      <td>40000</td>\n",
              "      <td>7</td>\n",
              "      <td>petrol</td>\n",
              "      <td>volkswagen</td>\n",
              "      <td>no</td>\n",
              "      <td>21/03/2016 00:00</td>\n",
              "      <td>0</td>\n",
              "      <td>19348</td>\n",
              "      <td>25/03/2016 16:47</td>\n",
              "    </tr>\n",
              "    <tr>\n",
              "      <th>40</th>\n",
              "      <td>26/03/2016 22:06</td>\n",
              "      <td>0</td>\n",
              "      <td>NaN</td>\n",
              "      <td>1990</td>\n",
              "      <td>NaN</td>\n",
              "      <td>60.0</td>\n",
              "      <td>corsa</td>\n",
              "      <td>150000</td>\n",
              "      <td>1</td>\n",
              "      <td>petrol</td>\n",
              "      <td>opel</td>\n",
              "      <td>NaN</td>\n",
              "      <td>26/03/2016 00:00</td>\n",
              "      <td>0</td>\n",
              "      <td>56412</td>\n",
              "      <td>27/03/2016 17:43</td>\n",
              "    </tr>\n",
              "    <tr>\n",
              "      <th>111</th>\n",
              "      <td>19/03/2016 18:40</td>\n",
              "      <td>0</td>\n",
              "      <td>NaN</td>\n",
              "      <td>2017</td>\n",
              "      <td>manual</td>\n",
              "      <td>95.0</td>\n",
              "      <td>golf</td>\n",
              "      <td>5000</td>\n",
              "      <td>12</td>\n",
              "      <td>petrol</td>\n",
              "      <td>volkswagen</td>\n",
              "      <td>NaN</td>\n",
              "      <td>19/03/2016 00:00</td>\n",
              "      <td>0</td>\n",
              "      <td>21698</td>\n",
              "      <td>01/04/2016 08:47</td>\n",
              "    </tr>\n",
              "    <tr>\n",
              "      <th>115</th>\n",
              "      <td>20/03/2016 18:53</td>\n",
              "      <td>0</td>\n",
              "      <td>small</td>\n",
              "      <td>1999</td>\n",
              "      <td>NaN</td>\n",
              "      <td>75.0</td>\n",
              "      <td>Unknown_Model</td>\n",
              "      <td>5000</td>\n",
              "      <td>0</td>\n",
              "      <td>petrol</td>\n",
              "      <td>volkswagen</td>\n",
              "      <td>NaN</td>\n",
              "      <td>20/03/2016 00:00</td>\n",
              "      <td>0</td>\n",
              "      <td>37520</td>\n",
              "      <td>07/04/2016 02:45</td>\n",
              "    </tr>\n",
              "    <tr>\n",
              "      <th>152</th>\n",
              "      <td>11/03/2016 18:55</td>\n",
              "      <td>0</td>\n",
              "      <td>bus</td>\n",
              "      <td>2004</td>\n",
              "      <td>manual</td>\n",
              "      <td>101.0</td>\n",
              "      <td>meriva</td>\n",
              "      <td>150000</td>\n",
              "      <td>10</td>\n",
              "      <td>lpg</td>\n",
              "      <td>opel</td>\n",
              "      <td>yes</td>\n",
              "      <td>11/03/2016 00:00</td>\n",
              "      <td>0</td>\n",
              "      <td>27432</td>\n",
              "      <td>12/03/2016 23:47</td>\n",
              "    </tr>\n",
              "  </tbody>\n",
              "</table>\n",
              "</div>"
            ],
            "text/plain": [
              "          DateCrawled  Price VehicleType  RegistrationYear Gearbox  Power  \\\n",
              "7    21/03/2016 18:54      0       sedan              1980  manual   50.0   \n",
              "40   26/03/2016 22:06      0         NaN              1990     NaN   60.0   \n",
              "111  19/03/2016 18:40      0         NaN              2017  manual   95.0   \n",
              "115  20/03/2016 18:53      0       small              1999     NaN   75.0   \n",
              "152  11/03/2016 18:55      0         bus              2004  manual  101.0   \n",
              "\n",
              "             Model  Mileage  RegistrationMonth FuelType       Brand  \\\n",
              "7            other    40000                  7   petrol  volkswagen   \n",
              "40           corsa   150000                  1   petrol        opel   \n",
              "111           golf     5000                 12   petrol  volkswagen   \n",
              "115  Unknown_Model     5000                  0   petrol  volkswagen   \n",
              "152         meriva   150000                 10      lpg        opel   \n",
              "\n",
              "    NotRepaired       DateCreated  NumberOfPictures  PostalCode  \\\n",
              "7            no  21/03/2016 00:00                 0       19348   \n",
              "40          NaN  26/03/2016 00:00                 0       56412   \n",
              "111         NaN  19/03/2016 00:00                 0       21698   \n",
              "115         NaN  20/03/2016 00:00                 0       37520   \n",
              "152         yes  11/03/2016 00:00                 0       27432   \n",
              "\n",
              "             LastSeen  \n",
              "7    25/03/2016 16:47  \n",
              "40   27/03/2016 17:43  \n",
              "111  01/04/2016 08:47  \n",
              "115  07/04/2016 02:45  \n",
              "152  12/03/2016 23:47  "
            ]
          },
          "execution_count": 16,
          "metadata": {},
          "output_type": "execute_result"
        }
      ],
      "source": [
        "# Revisamos los valores\n",
        "df[df[\"Price\"] == 0].head(5)"
      ]
    },
    {
      "cell_type": "code",
      "execution_count": null,
      "metadata": {
        "id": "QOsxQfsVgrUn",
        "outputId": "02a81252-eddc-4467-be31-32fd74b5636b"
      },
      "outputs": [
        {
          "data": {
            "text/plain": [
              "10400"
            ]
          },
          "execution_count": 17,
          "metadata": {},
          "output_type": "execute_result"
        }
      ],
      "source": [
        "# Revisamos cuántos son\n",
        "len(df[df[\"Price\"] == 0])"
      ]
    },
    {
      "cell_type": "markdown",
      "metadata": {
        "id": "fkAN6DkjgrUn"
      },
      "source": [
        "Al revisar la distribución de la columna price podemos ver que hay valores bastante bajos. De este modo, solo dejaremos los valores desde 500 hacia arriba para obtener precios más realistas."
      ]
    },
    {
      "cell_type": "code",
      "execution_count": null,
      "metadata": {
        "scrolled": true,
        "id": "iIkrsBiOgrUn",
        "outputId": "baa1cb1a-c82a-4868-df96-58659f641ed2"
      },
      "outputs": [
        {
          "data": {
            "image/png": "[encoded data removed]",
            "text/plain": [
              "<Figure size 864x576 with 1 Axes>"
            ]
          },
          "metadata": {
            "needs_background": "light"
          },
          "output_type": "display_data"
        }
      ],
      "source": [
        "# Distribución de Price\n",
        "df.Price.hist(bins=50, figsize=(12, 8))\n",
        "plt.show()"
      ]
    },
    {
      "cell_type": "code",
      "execution_count": null,
      "metadata": {
        "id": "3wI-ty8-grUn"
      },
      "outputs": [],
      "source": [
        "df = df[df['Price'] >= 500]"
      ]
    },
    {
      "cell_type": "code",
      "execution_count": null,
      "metadata": {
        "scrolled": false,
        "id": "ZHIzKhzEgrUn",
        "outputId": "dc99f956-7566-4178-d7a3-53df86b3fd36"
      },
      "outputs": [
        {
          "data": {
            "text/plain": [
              "count    308918.000000\n",
              "mean       4744.042322\n",
              "std        4393.336466\n",
              "min         500.000000\n",
              "25%        1450.000000\n",
              "50%        3099.000000\n",
              "75%        6700.000000\n",
              "max       20000.000000\n",
              "Name: Price, dtype: float64"
            ]
          },
          "execution_count": 20,
          "metadata": {},
          "output_type": "execute_result"
        }
      ],
      "source": [
        "df[\"Price\"].describe()"
      ]
    },
    {
      "cell_type": "markdown",
      "metadata": {
        "id": "Z1U3WIq5grUo"
      },
      "source": [
        "En la columna 'RegistrationYear' también tenemos valores extraños, cómo podemos ver en la distribución en la celda de arriba, hay valores desde el año 1000 al 9999, esto probablemente se deba a errores de tipeo o de sistema. Estableceremo los valores máximos y mínimos por medio del rango intercuartílico."
      ]
    },
    {
      "cell_type": "code",
      "execution_count": null,
      "metadata": {
        "id": "84CYXYdAgrUo",
        "outputId": "66f3aa0a-d462-4242-9701-c60c1cf04ad4"
      },
      "outputs": [
        {
          "data": {
            "image/png": "[encoded data removed]",
            "text/plain": [
              "<Figure size 648x360 with 1 Axes>"
            ]
          },
          "metadata": {
            "needs_background": "light"
          },
          "output_type": "display_data"
        }
      ],
      "source": [
        "# Graficamos los valores atípicos\n",
        "\n",
        "plt.figure(figsize=(9, 5))\n",
        "plt.boxplot(df['RegistrationYear'])\n",
        "plt.title('Distribución de Años de Registro')\n",
        "plt.grid(True)\n",
        "plt.show()"
      ]
    },
    {
      "cell_type": "code",
      "execution_count": null,
      "metadata": {
        "id": "U9IEOwSpgrUo"
      },
      "outputs": [],
      "source": [
        "# Establecemos valores máximo y mínimos\n",
        "Q1 = df['RegistrationYear'].quantile(0.25)\n",
        "Q3 = df['RegistrationYear'].quantile(0.75)\n",
        "IQR = Q3 - Q1\n",
        "valor_minimo = Q1 - 1.5 * IQR\n",
        "valor_maximo = Q3 + 1.5 * IQR"
      ]
    },
    {
      "cell_type": "code",
      "execution_count": null,
      "metadata": {
        "scrolled": true,
        "id": "Nck24C9zgrUo",
        "outputId": "6e08021a-8140-4539-b056-567554c11e82"
      },
      "outputs": [
        {
          "name": "stdout",
          "output_type": "stream",
          "text": [
            "\n",
            "    Límite inferior: 1985.5\n",
            "    Límite superior: 2021.5      \n",
            "\n"
          ]
        }
      ],
      "source": [
        "# Revisamos los valores\n",
        "print(f\"\"\"\n",
        "    Límite inferior: {valor_minimo}\n",
        "    Límite superior: {valor_maximo}\n",
        "\"\"\")"
      ]
    },
    {
      "cell_type": "markdown",
      "metadata": {
        "id": "tbOt2nAbgrUo"
      },
      "source": [
        "Ahora tenemos los valores mas representativos de la variable."
      ]
    },
    {
      "cell_type": "code",
      "execution_count": null,
      "metadata": {
        "id": "ot7bhEZ7grUs"
      },
      "outputs": [],
      "source": [
        "# Filtramos la columna\n",
        "df = df[(df['RegistrationYear'] >= valor_minimo) & (df['RegistrationYear'] <= valor_maximo)].reset_index(drop=True)"
      ]
    },
    {
      "cell_type": "code",
      "execution_count": null,
      "metadata": {
        "id": "G--s2yAHgrUt",
        "outputId": "001be263-de9a-4924-b271-3abfd11d2d12"
      },
      "outputs": [
        {
          "data": {
            "image/png": "[encoded data removed]",
            "text/plain": [
              "<Figure size 648x360 with 1 Axes>"
            ]
          },
          "metadata": {
            "needs_background": "light"
          },
          "output_type": "display_data"
        }
      ],
      "source": [
        "# Graficamos los valores atípicos\n",
        "plt.figure(figsize=(9, 5))\n",
        "plt.boxplot(df['RegistrationYear'])\n",
        "plt.title('Distribución de Años de Registro')\n",
        "plt.grid(True)\n",
        "plt.show()"
      ]
    },
    {
      "cell_type": "markdown",
      "metadata": {
        "id": "2-2zBr0fgrUt"
      },
      "source": [
        "**Revisamos formatos de nombres de columnas**"
      ]
    },
    {
      "cell_type": "code",
      "execution_count": null,
      "metadata": {
        "id": "-ZHN-rshgrUt",
        "outputId": "5e3565df-b767-4f4d-901b-da66943c7bd0"
      },
      "outputs": [
        {
          "data": {
            "text/plain": [
              "Index(['DateCrawled', 'Price', 'VehicleType', 'RegistrationYear', 'Gearbox',\n",
              "       'Power', 'Model', 'Mileage', 'RegistrationMonth', 'FuelType', 'Brand',\n",
              "       'NotRepaired', 'DateCreated', 'NumberOfPictures', 'PostalCode',\n",
              "       'LastSeen'],\n",
              "      dtype='object')"
            ]
          },
          "execution_count": 26,
          "metadata": {},
          "output_type": "execute_result"
        }
      ],
      "source": [
        "# Revisamos nombres de columnas\n",
        "df.columns"
      ]
    },
    {
      "cell_type": "markdown",
      "metadata": {
        "id": "guCroaBtgrUt"
      },
      "source": [
        "Aquí dejaremos los nombres en mínusculas y separaremos las palabras por guiones bajos."
      ]
    },
    {
      "cell_type": "code",
      "execution_count": null,
      "metadata": {
        "id": "fOudgvgigrUt"
      },
      "outputs": [],
      "source": [
        "# Pasamos a minúsculas\n",
        "df.columns = df.columns.str.lower()"
      ]
    },
    {
      "cell_type": "code",
      "execution_count": null,
      "metadata": {
        "id": "ewxa7QeigrUt"
      },
      "outputs": [],
      "source": [
        "# Separamos palabras por guión bajo\n",
        "new_cols = ['date_crawled', 'price', 'vehicle_type', 'registration_year', 'gearbox',\n",
        "                    'power', 'car_model', 'mileage', 'registration_month', 'fuel_type', 'brand',\n",
        "                    'not_repaired', 'date_created', 'pictures_number', 'postal_code', 'last_seen']\n",
        "\n",
        "df.columns= new_cols"
      ]
    },
    {
      "cell_type": "code",
      "execution_count": null,
      "metadata": {
        "scrolled": false,
        "id": "N7R_5JHagrUu",
        "outputId": "d1d5f28d-f73f-4569-8f6d-62212e852a23"
      },
      "outputs": [
        {
          "data": {
            "text/html": [
              "<div>\n",
              "<style scoped>\n",
              "    .dataframe tbody tr th:only-of-type {\n",
              "        vertical-align: middle;\n",
              "    }\n",
              "\n",
              "    .dataframe tbody tr th {\n",
              "        vertical-align: top;\n",
              "    }\n",
              "\n",
              "    .dataframe thead th {\n",
              "        text-align: right;\n",
              "    }\n",
              "</style>\n",
              "<table border=\"1\" class=\"dataframe\">\n",
              "  <thead>\n",
              "    <tr style=\"text-align: right;\">\n",
              "      <th></th>\n",
              "      <th>date_crawled</th>\n",
              "      <th>price</th>\n",
              "      <th>vehicle_type</th>\n",
              "      <th>registration_year</th>\n",
              "      <th>gearbox</th>\n",
              "      <th>power</th>\n",
              "      <th>car_model</th>\n",
              "      <th>mileage</th>\n",
              "      <th>registration_month</th>\n",
              "      <th>fuel_type</th>\n",
              "      <th>brand</th>\n",
              "      <th>not_repaired</th>\n",
              "      <th>date_created</th>\n",
              "      <th>pictures_number</th>\n",
              "      <th>postal_code</th>\n",
              "      <th>last_seen</th>\n",
              "    </tr>\n",
              "  </thead>\n",
              "  <tbody>\n",
              "    <tr>\n",
              "      <th>0</th>\n",
              "      <td>24/03/2016 10:58</td>\n",
              "      <td>18300</td>\n",
              "      <td>coupe</td>\n",
              "      <td>2011</td>\n",
              "      <td>manual</td>\n",
              "      <td>190.0</td>\n",
              "      <td>Unknown_Model</td>\n",
              "      <td>125000</td>\n",
              "      <td>5</td>\n",
              "      <td>gasoline</td>\n",
              "      <td>audi</td>\n",
              "      <td>yes</td>\n",
              "      <td>24/03/2016 00:00</td>\n",
              "      <td>0</td>\n",
              "      <td>66954</td>\n",
              "      <td>07/04/2016 01:46</td>\n",
              "    </tr>\n",
              "    <tr>\n",
              "      <th>1</th>\n",
              "      <td>14/03/2016 12:52</td>\n",
              "      <td>9800</td>\n",
              "      <td>suv</td>\n",
              "      <td>2004</td>\n",
              "      <td>auto</td>\n",
              "      <td>163.0</td>\n",
              "      <td>grand</td>\n",
              "      <td>125000</td>\n",
              "      <td>8</td>\n",
              "      <td>gasoline</td>\n",
              "      <td>jeep</td>\n",
              "      <td>NaN</td>\n",
              "      <td>14/03/2016 00:00</td>\n",
              "      <td>0</td>\n",
              "      <td>90480</td>\n",
              "      <td>05/04/2016 12:47</td>\n",
              "    </tr>\n",
              "    <tr>\n",
              "      <th>2</th>\n",
              "      <td>17/03/2016 16:54</td>\n",
              "      <td>1500</td>\n",
              "      <td>small</td>\n",
              "      <td>2001</td>\n",
              "      <td>manual</td>\n",
              "      <td>75.0</td>\n",
              "      <td>golf</td>\n",
              "      <td>150000</td>\n",
              "      <td>6</td>\n",
              "      <td>petrol</td>\n",
              "      <td>volkswagen</td>\n",
              "      <td>no</td>\n",
              "      <td>17/03/2016 00:00</td>\n",
              "      <td>0</td>\n",
              "      <td>91074</td>\n",
              "      <td>17/03/2016 17:40</td>\n",
              "    </tr>\n",
              "  </tbody>\n",
              "</table>\n",
              "</div>"
            ],
            "text/plain": [
              "       date_crawled  price vehicle_type  registration_year gearbox  power  \\\n",
              "0  24/03/2016 10:58  18300        coupe               2011  manual  190.0   \n",
              "1  14/03/2016 12:52   9800          suv               2004    auto  163.0   \n",
              "2  17/03/2016 16:54   1500        small               2001  manual   75.0   \n",
              "\n",
              "       car_model  mileage  registration_month fuel_type       brand  \\\n",
              "0  Unknown_Model   125000                   5  gasoline        audi   \n",
              "1          grand   125000                   8  gasoline        jeep   \n",
              "2           golf   150000                   6    petrol  volkswagen   \n",
              "\n",
              "  not_repaired      date_created  pictures_number  postal_code  \\\n",
              "0          yes  24/03/2016 00:00                0        66954   \n",
              "1          NaN  14/03/2016 00:00                0        90480   \n",
              "2           no  17/03/2016 00:00                0        91074   \n",
              "\n",
              "          last_seen  \n",
              "0  07/04/2016 01:46  \n",
              "1  05/04/2016 12:47  \n",
              "2  17/03/2016 17:40  "
            ]
          },
          "execution_count": 29,
          "metadata": {},
          "output_type": "execute_result"
        }
      ],
      "source": [
        "# Revisamos cambios\n",
        "df.head(3)"
      ]
    },
    {
      "cell_type": "markdown",
      "metadata": {
        "id": "rXc8jh7dgrUu"
      },
      "source": [
        "**Ahora revisamos el formato de las columnas**"
      ]
    },
    {
      "cell_type": "code",
      "execution_count": null,
      "metadata": {
        "scrolled": true,
        "id": "6HODr6xFgrUu",
        "outputId": "756255de-da2e-4f80-c50f-7b9535ad2612"
      },
      "outputs": [
        {
          "name": "stdout",
          "output_type": "stream",
          "text": [
            "<class 'pandas.core.frame.DataFrame'>\n",
            "RangeIndex: 304376 entries, 0 to 304375\n",
            "Data columns (total 16 columns):\n",
            " #   Column              Non-Null Count   Dtype  \n",
            "---  ------              --------------   -----  \n",
            " 0   date_crawled        304376 non-null  object \n",
            " 1   price               304376 non-null  int64  \n",
            " 2   vehicle_type        278388 non-null  object \n",
            " 3   registration_year   304376 non-null  int64  \n",
            " 4   gearbox             292024 non-null  object \n",
            " 5   power               304376 non-null  float64\n",
            " 6   car_model           304376 non-null  object \n",
            " 7   mileage             304376 non-null  int64  \n",
            " 8   registration_month  304376 non-null  int64  \n",
            " 9   fuel_type           282496 non-null  object \n",
            " 10  brand               304376 non-null  object \n",
            " 11  not_repaired        252492 non-null  object \n",
            " 12  date_created        304376 non-null  object \n",
            " 13  pictures_number     304376 non-null  int64  \n",
            " 14  postal_code         304376 non-null  int64  \n",
            " 15  last_seen           304376 non-null  object \n",
            "dtypes: float64(1), int64(6), object(9)\n",
            "memory usage: 37.2+ MB\n"
          ]
        }
      ],
      "source": [
        "# Revisamos el formato de las columnas\n",
        "df.info()"
      ]
    },
    {
      "cell_type": "markdown",
      "metadata": {
        "id": "sHq6gE5PgrUu"
      },
      "source": [
        "Aquí podemos ver que las columnas con fechas están en formato object, de este modo las dejaremos en formato 'datetime'."
      ]
    },
    {
      "cell_type": "code",
      "execution_count": null,
      "metadata": {
        "id": "GP2X4OLOgrUu"
      },
      "outputs": [],
      "source": [
        "# Cambiamos los formatos de las columnas de object a datetime\n",
        "df['date_crawled'] = pd.to_datetime(df['date_crawled'], format='%d/%m/%Y %H:%M')\n",
        "df['date_created'] = pd.to_datetime(df['date_created'], format='%d/%m/%Y %H:%M')\n",
        "df['last_seen'] = pd.to_datetime(df['last_seen'], format='%d/%m/%Y %H:%M')"
      ]
    },
    {
      "cell_type": "code",
      "execution_count": null,
      "metadata": {
        "scrolled": true,
        "id": "0ot7eXaTgrUv",
        "outputId": "98b1add7-a396-480a-fe7d-6790da8f6fa1"
      },
      "outputs": [
        {
          "name": "stdout",
          "output_type": "stream",
          "text": [
            "<class 'pandas.core.frame.DataFrame'>\n",
            "RangeIndex: 304376 entries, 0 to 304375\n",
            "Data columns (total 16 columns):\n",
            " #   Column              Non-Null Count   Dtype         \n",
            "---  ------              --------------   -----         \n",
            " 0   date_crawled        304376 non-null  datetime64[ns]\n",
            " 1   price               304376 non-null  int64         \n",
            " 2   vehicle_type        278388 non-null  object        \n",
            " 3   registration_year   304376 non-null  int64         \n",
            " 4   gearbox             292024 non-null  object        \n",
            " 5   power               304376 non-null  float64       \n",
            " 6   car_model           304376 non-null  object        \n",
            " 7   mileage             304376 non-null  int64         \n",
            " 8   registration_month  304376 non-null  int64         \n",
            " 9   fuel_type           282496 non-null  object        \n",
            " 10  brand               304376 non-null  object        \n",
            " 11  not_repaired        252492 non-null  object        \n",
            " 12  date_created        304376 non-null  datetime64[ns]\n",
            " 13  pictures_number     304376 non-null  int64         \n",
            " 14  postal_code         304376 non-null  int64         \n",
            " 15  last_seen           304376 non-null  datetime64[ns]\n",
            "dtypes: datetime64[ns](3), float64(1), int64(6), object(6)\n",
            "memory usage: 37.2+ MB\n"
          ]
        }
      ],
      "source": [
        "# Comprobamos que esté todo en orden\n",
        "df.info()"
      ]
    },
    {
      "cell_type": "markdown",
      "metadata": {
        "id": "pUvgtG4LgrUv"
      },
      "source": [
        "**Revisamos valores ausentes**"
      ]
    },
    {
      "cell_type": "code",
      "execution_count": null,
      "metadata": {
        "scrolled": false,
        "id": "oSMRj5V0grUv",
        "outputId": "f6ec03d2-c814-494d-a11d-c11c7ba5f350"
      },
      "outputs": [
        {
          "data": {
            "text/plain": [
              "date_crawled              0\n",
              "price                     0\n",
              "vehicle_type          25988\n",
              "registration_year         0\n",
              "gearbox               12352\n",
              "power                     0\n",
              "car_model                 0\n",
              "mileage                   0\n",
              "registration_month        0\n",
              "fuel_type             21880\n",
              "brand                     0\n",
              "not_repaired          51884\n",
              "date_created              0\n",
              "pictures_number           0\n",
              "postal_code               0\n",
              "last_seen                 0\n",
              "dtype: int64"
            ]
          },
          "execution_count": 33,
          "metadata": {},
          "output_type": "execute_result"
        }
      ],
      "source": [
        "df.isna().sum()"
      ]
    },
    {
      "cell_type": "code",
      "execution_count": null,
      "metadata": {
        "id": "E2GgvRJVgrUv",
        "outputId": "8873545b-a71b-409d-8bf4-44a931f95396"
      },
      "outputs": [
        {
          "data": {
            "text/plain": [
              "'Porcentaje de valores ausentes en df: 2.356159592695283%'"
            ]
          },
          "execution_count": 34,
          "metadata": {},
          "output_type": "execute_result"
        }
      ],
      "source": [
        "# Calcularemos el porcentaje de valores ausentes\n",
        "nan_ = df.isna().sum().sum()\n",
        "total_ = df.count().sum()\n",
        "\n",
        "f\"Porcentaje de valores ausentes en df: {(nan_ / total_)*100}%\""
      ]
    },
    {
      "cell_type": "markdown",
      "metadata": {
        "id": "ufnazsSIgrUv"
      },
      "source": [
        "A modo de analisis podríamos hacer lo siguiente:"
      ]
    },
    {
      "cell_type": "markdown",
      "metadata": {
        "id": "BfKZhkx_grUw"
      },
      "source": [
        "Aquí hay varios valores que podemos recuperar por correlación.\n",
        "- 1. Los valores de 'vehicle_type' lo podemos imputar en base a la columna 'car_model'\n",
        "\n",
        "\n",
        "- 2. La columna 'gearbox' se podría imputar en relación a 'car_model', pero NO lo haremos, ya que existen versiones de modelos manuales y automáticas. De este modo descartaremos estos datos para no sesgar la información.\n",
        "\n",
        "\n",
        "- 3. Sobre 'car_model' no tenemos la suficiente información para imputar sus valores ausentes, por lo que los descartaremos.\n",
        "\n",
        "\n",
        "- 4. En cuanto a 'fuel_type' podríamos imputar valores en relación a 'power' y a 'car_model'. Estas carácterísticas a menúdo están asociadas al tipo de combustible.\n",
        "\n",
        "- 5. Por último, sobre 'not_repaired' no tenemos forma de saber esta información, por lo que descartaremos sus valores ausentes."
      ]
    },
    {
      "cell_type": "markdown",
      "metadata": {
        "id": "Q2xL_vd5grUw"
      },
      "source": [
        "Abordamos 'vehicle_type'. Aquí crearemos un diccionario con el tipo de vehículo más frecuente para cada modelo."
      ]
    },
    {
      "cell_type": "code",
      "execution_count": null,
      "metadata": {
        "id": "OYTDvDjegrUw"
      },
      "outputs": [],
      "source": [
        "# Creamos el diccionario\n",
        "model_vehicle_dict = {}\n",
        "\n",
        "for model, group in df.groupby('car_model'):\n",
        "    if not group['vehicle_type'].empty:\n",
        "        mode_result = group['vehicle_type'].mode()\n",
        "        if not mode_result.empty:\n",
        "            most_frequent_vehicle_type = mode_result.iloc[0]\n",
        "            model_vehicle_dict[model] = most_frequent_vehicle_type\n",
        "        else:\n",
        "            model_vehicle_dict[model] = \"unknown\"\n",
        "    else:\n",
        "        model_vehicle_dict[model] = \"unknown\""
      ]
    },
    {
      "cell_type": "code",
      "execution_count": null,
      "metadata": {
        "id": "RolcdS-GgrUw"
      },
      "outputs": [],
      "source": [
        "# Imputamos los valores\n",
        "df['vehicle_type'].fillna(df['car_model'].map(model_vehicle_dict), inplace=True)"
      ]
    },
    {
      "cell_type": "code",
      "execution_count": null,
      "metadata": {
        "scrolled": true,
        "id": "NKY4z_JKgrUw",
        "outputId": "4c062304-99ad-4e03-983b-75d361b1f190"
      },
      "outputs": [
        {
          "data": {
            "text/plain": [
              "0"
            ]
          },
          "execution_count": 37,
          "metadata": {},
          "output_type": "execute_result"
        }
      ],
      "source": [
        "# Revisamos los cambios\n",
        "df.vehicle_type.isna().sum()"
      ]
    },
    {
      "cell_type": "markdown",
      "metadata": {
        "id": "l2DY0fXBgrUx"
      },
      "source": [
        "Abordamos 'fuel_type'. Crearemos un diccionario bansandonos en 'power' y 'car_model'."
      ]
    },
    {
      "cell_type": "code",
      "execution_count": null,
      "metadata": {
        "id": "QgXGbl0pgrUx"
      },
      "outputs": [],
      "source": [
        "# Creamos el diccionario\n",
        "fuel_type_dict = {}\n",
        "for _, row in df.iterrows():\n",
        "    car_model = row['car_model']\n",
        "    power = row['power']\n",
        "    fuel_type = row['fuel_type']\n",
        "    if (car_model, power) not in fuel_type_dict:\n",
        "        fuel_type_dict[(car_model, power)] = fuel_type"
      ]
    },
    {
      "cell_type": "code",
      "execution_count": null,
      "metadata": {
        "id": "6dkwlYcTgrUx"
      },
      "outputs": [],
      "source": [
        "# Imputamos los NaN de 'fuel_type'\n",
        "df['fuel_type'].fillna(df.apply(lambda row: fuel_type_dict.get((row['car_model'], row['power']), row['fuel_type']), axis=1), inplace=True)"
      ]
    },
    {
      "cell_type": "code",
      "execution_count": null,
      "metadata": {
        "id": "_fDu-wxggrUx",
        "outputId": "b58a690f-b77c-440b-e876-4af9f40107ee"
      },
      "outputs": [
        {
          "data": {
            "text/plain": [
              "date_crawled              0\n",
              "price                     0\n",
              "vehicle_type              0\n",
              "registration_year         0\n",
              "gearbox               12352\n",
              "power                     0\n",
              "car_model                 0\n",
              "mileage                   0\n",
              "registration_month        0\n",
              "fuel_type              2884\n",
              "brand                     0\n",
              "not_repaired          51884\n",
              "date_created              0\n",
              "pictures_number           0\n",
              "postal_code               0\n",
              "last_seen                 0\n",
              "dtype: int64"
            ]
          },
          "execution_count": 40,
          "metadata": {},
          "output_type": "execute_result"
        }
      ],
      "source": [
        "# Revisamos los cambios\n",
        "df.isna().sum()"
      ]
    },
    {
      "cell_type": "code",
      "execution_count": null,
      "metadata": {
        "id": "u9i_rjZugrUx"
      },
      "outputs": [],
      "source": [
        "# Imputamos los demás valores ausentes con 'unknown'\n",
        "df.fillna('unknown', inplace=True)"
      ]
    },
    {
      "cell_type": "code",
      "execution_count": null,
      "metadata": {
        "id": "Q2N1DquPgrUx",
        "outputId": "1662f601-a6d4-49d3-ab39-cb415819c2c8"
      },
      "outputs": [
        {
          "data": {
            "text/plain": [
              "date_crawled          0\n",
              "price                 0\n",
              "vehicle_type          0\n",
              "registration_year     0\n",
              "gearbox               0\n",
              "power                 0\n",
              "car_model             0\n",
              "mileage               0\n",
              "registration_month    0\n",
              "fuel_type             0\n",
              "brand                 0\n",
              "not_repaired          0\n",
              "date_created          0\n",
              "pictures_number       0\n",
              "postal_code           0\n",
              "last_seen             0\n",
              "dtype: int64"
            ]
          },
          "execution_count": 42,
          "metadata": {},
          "output_type": "execute_result"
        }
      ],
      "source": [
        "# Revisamos los cambios\n",
        "df.isna().sum()"
      ]
    },
    {
      "cell_type": "markdown",
      "metadata": {
        "id": "47Ee9SQygrUy"
      },
      "source": [
        "**Revisamos valores duplicados**"
      ]
    },
    {
      "cell_type": "code",
      "execution_count": null,
      "metadata": {
        "scrolled": true,
        "id": "5lvBdrAIgrUy",
        "outputId": "0efe92ca-0cda-4629-faa2-cfb40bf97c2d"
      },
      "outputs": [
        {
          "data": {
            "text/plain": [
              "250"
            ]
          },
          "execution_count": 43,
          "metadata": {},
          "output_type": "execute_result"
        }
      ],
      "source": [
        "# Revisamos duplicados\n",
        "df.duplicated().sum()"
      ]
    },
    {
      "cell_type": "code",
      "execution_count": null,
      "metadata": {
        "scrolled": true,
        "id": "Q3P-XSiegrUy"
      },
      "outputs": [],
      "source": [
        "# Descartamos datos duplicados\n",
        "df.drop_duplicates(inplace=True)"
      ]
    },
    {
      "cell_type": "code",
      "execution_count": null,
      "metadata": {
        "id": "68bQ2zhfgrUz",
        "outputId": "d6a70802-beba-4b45-c05b-a2e96794dc59"
      },
      "outputs": [
        {
          "data": {
            "text/plain": [
              "0"
            ]
          },
          "execution_count": 45,
          "metadata": {},
          "output_type": "execute_result"
        }
      ],
      "source": [
        "# Revisamos los cambios\n",
        "df.duplicated().sum()"
      ]
    },
    {
      "cell_type": "code",
      "execution_count": null,
      "metadata": {
        "id": "2mItloI1grUz"
      },
      "outputs": [],
      "source": [
        "# Reseteamos el index\n",
        "df.reset_index(drop=True, inplace=True)"
      ]
    },
    {
      "cell_type": "code",
      "execution_count": null,
      "metadata": {
        "id": "EASCYxNAgrU0",
        "outputId": "feb1985d-c2c3-478e-a335-ac4f6943acc0"
      },
      "outputs": [
        {
          "data": {
            "text/html": [
              "<div>\n",
              "<style scoped>\n",
              "    .dataframe tbody tr th:only-of-type {\n",
              "        vertical-align: middle;\n",
              "    }\n",
              "\n",
              "    .dataframe tbody tr th {\n",
              "        vertical-align: top;\n",
              "    }\n",
              "\n",
              "    .dataframe thead th {\n",
              "        text-align: right;\n",
              "    }\n",
              "</style>\n",
              "<table border=\"1\" class=\"dataframe\">\n",
              "  <thead>\n",
              "    <tr style=\"text-align: right;\">\n",
              "      <th></th>\n",
              "      <th>price</th>\n",
              "      <th>registration_year</th>\n",
              "      <th>power</th>\n",
              "      <th>mileage</th>\n",
              "      <th>registration_month</th>\n",
              "      <th>pictures_number</th>\n",
              "      <th>postal_code</th>\n",
              "    </tr>\n",
              "  </thead>\n",
              "  <tbody>\n",
              "    <tr>\n",
              "      <th>count</th>\n",
              "      <td>304126.000000</td>\n",
              "      <td>304126.000000</td>\n",
              "      <td>304126.000000</td>\n",
              "      <td>304126.000000</td>\n",
              "      <td>304126.000000</td>\n",
              "      <td>304126.0</td>\n",
              "      <td>304126.000000</td>\n",
              "    </tr>\n",
              "    <tr>\n",
              "      <th>mean</th>\n",
              "      <td>4715.828785</td>\n",
              "      <td>2003.968654</td>\n",
              "      <td>116.956913</td>\n",
              "      <td>128571.957018</td>\n",
              "      <td>5.924926</td>\n",
              "      <td>0.0</td>\n",
              "      <td>50934.173017</td>\n",
              "    </tr>\n",
              "    <tr>\n",
              "      <th>std</th>\n",
              "      <td>4377.492249</td>\n",
              "      <td>6.171121</td>\n",
              "      <td>44.114148</td>\n",
              "      <td>36641.252731</td>\n",
              "      <td>3.643472</td>\n",
              "      <td>0.0</td>\n",
              "      <td>25666.627775</td>\n",
              "    </tr>\n",
              "    <tr>\n",
              "      <th>min</th>\n",
              "      <td>500.000000</td>\n",
              "      <td>1986.000000</td>\n",
              "      <td>40.000000</td>\n",
              "      <td>5000.000000</td>\n",
              "      <td>0.000000</td>\n",
              "      <td>0.0</td>\n",
              "      <td>1067.000000</td>\n",
              "    </tr>\n",
              "    <tr>\n",
              "      <th>25%</th>\n",
              "      <td>1450.000000</td>\n",
              "      <td>2000.000000</td>\n",
              "      <td>80.000000</td>\n",
              "      <td>125000.000000</td>\n",
              "      <td>3.000000</td>\n",
              "      <td>0.0</td>\n",
              "      <td>30826.000000</td>\n",
              "    </tr>\n",
              "    <tr>\n",
              "      <th>50%</th>\n",
              "      <td>3000.000000</td>\n",
              "      <td>2004.000000</td>\n",
              "      <td>110.000000</td>\n",
              "      <td>150000.000000</td>\n",
              "      <td>6.000000</td>\n",
              "      <td>0.0</td>\n",
              "      <td>49740.000000</td>\n",
              "    </tr>\n",
              "    <tr>\n",
              "      <th>75%</th>\n",
              "      <td>6650.000000</td>\n",
              "      <td>2008.000000</td>\n",
              "      <td>143.000000</td>\n",
              "      <td>150000.000000</td>\n",
              "      <td>9.000000</td>\n",
              "      <td>0.0</td>\n",
              "      <td>71364.000000</td>\n",
              "    </tr>\n",
              "    <tr>\n",
              "      <th>max</th>\n",
              "      <td>20000.000000</td>\n",
              "      <td>2019.000000</td>\n",
              "      <td>245.000000</td>\n",
              "      <td>150000.000000</td>\n",
              "      <td>12.000000</td>\n",
              "      <td>0.0</td>\n",
              "      <td>99998.000000</td>\n",
              "    </tr>\n",
              "  </tbody>\n",
              "</table>\n",
              "</div>"
            ],
            "text/plain": [
              "               price  registration_year          power        mileage  \\\n",
              "count  304126.000000      304126.000000  304126.000000  304126.000000   \n",
              "mean     4715.828785        2003.968654     116.956913  128571.957018   \n",
              "std      4377.492249           6.171121      44.114148   36641.252731   \n",
              "min       500.000000        1986.000000      40.000000    5000.000000   \n",
              "25%      1450.000000        2000.000000      80.000000  125000.000000   \n",
              "50%      3000.000000        2004.000000     110.000000  150000.000000   \n",
              "75%      6650.000000        2008.000000     143.000000  150000.000000   \n",
              "max     20000.000000        2019.000000     245.000000  150000.000000   \n",
              "\n",
              "       registration_month  pictures_number    postal_code  \n",
              "count       304126.000000         304126.0  304126.000000  \n",
              "mean             5.924926              0.0   50934.173017  \n",
              "std              3.643472              0.0   25666.627775  \n",
              "min              0.000000              0.0    1067.000000  \n",
              "25%              3.000000              0.0   30826.000000  \n",
              "50%              6.000000              0.0   49740.000000  \n",
              "75%              9.000000              0.0   71364.000000  \n",
              "max             12.000000              0.0   99998.000000  "
            ]
          },
          "execution_count": 47,
          "metadata": {},
          "output_type": "execute_result"
        }
      ],
      "source": [
        "# Revisamos la tabla\n",
        "df.describe()"
      ]
    },
    {
      "cell_type": "code",
      "execution_count": null,
      "metadata": {
        "scrolled": true,
        "id": "Z5u1_VCGgrU0",
        "outputId": "0cb99231-30ed-4b8a-c74f-6e743f92a61d"
      },
      "outputs": [
        {
          "data": {
            "text/plain": [
              "(304126, 16)"
            ]
          },
          "execution_count": 48,
          "metadata": {},
          "output_type": "execute_result"
        }
      ],
      "source": [
        "df.shape"
      ]
    },
    {
      "cell_type": "markdown",
      "metadata": {
        "id": "QYGhHL5ugrU1"
      },
      "source": [
        "Descartamos cerca del 20% de nuestros datos, pero el volumen de los datos es grande por lo que no debería ser un problema.\n",
        "\n",
        "Ahora nuestros datos ya están listos!\n"
      ]
    },
    {
      "cell_type": "markdown",
      "metadata": {
        "id": "EFba8n_PgrU1"
      },
      "source": [
        "## Entrenamiento del modelo"
      ]
    },
    {
      "cell_type": "markdown",
      "metadata": {
        "id": "YWJp15NDgrU1"
      },
      "source": [
        "**Aplicaremos One Hot Encoder porque tenemos valores categóricos, y separamos el target y los features**\n",
        "- Nuestro objetivo es 'price'.\n",
        "\n",
        "\n",
        "- En cuanto a features, no utilizaremos las variables 'date_crawled', 'registration_month', 'date_created', 'postal_code', 'last_seen', 'pictures_number', ya que datos como número de fotos, código postal, mes de registro o la fecha en que se creó el anuncio no servirán para hacer las predicciones de los precios de los vehículos."
      ]
    },
    {
      "cell_type": "code",
      "execution_count": null,
      "metadata": {
        "id": "gSjQYGjqgrU1"
      },
      "outputs": [],
      "source": [
        "# Aplicamos OHE a las variables categóricas\n",
        "df_encoded = pd.get_dummies(df, columns=['vehicle_type', 'gearbox', 'car_model', 'fuel_type', 'brand', 'not_repaired'])"
      ]
    },
    {
      "cell_type": "code",
      "execution_count": null,
      "metadata": {
        "id": "ztyyQLEBgrU1",
        "outputId": "82bbb4c0-a942-4c34-836a-22cd92d6aa4d"
      },
      "outputs": [
        {
          "data": {
            "text/html": [
              "<div>\n",
              "<style scoped>\n",
              "    .dataframe tbody tr th:only-of-type {\n",
              "        vertical-align: middle;\n",
              "    }\n",
              "\n",
              "    .dataframe tbody tr th {\n",
              "        vertical-align: top;\n",
              "    }\n",
              "\n",
              "    .dataframe thead th {\n",
              "        text-align: right;\n",
              "    }\n",
              "</style>\n",
              "<table border=\"1\" class=\"dataframe\">\n",
              "  <thead>\n",
              "    <tr style=\"text-align: right;\">\n",
              "      <th></th>\n",
              "      <th>date_crawled</th>\n",
              "      <th>price</th>\n",
              "      <th>registration_year</th>\n",
              "      <th>power</th>\n",
              "      <th>mileage</th>\n",
              "      <th>registration_month</th>\n",
              "      <th>date_created</th>\n",
              "      <th>pictures_number</th>\n",
              "      <th>postal_code</th>\n",
              "      <th>last_seen</th>\n",
              "      <th>...</th>\n",
              "      <th>brand_sonstige_autos</th>\n",
              "      <th>brand_subaru</th>\n",
              "      <th>brand_suzuki</th>\n",
              "      <th>brand_toyota</th>\n",
              "      <th>brand_trabant</th>\n",
              "      <th>brand_volkswagen</th>\n",
              "      <th>brand_volvo</th>\n",
              "      <th>not_repaired_no</th>\n",
              "      <th>not_repaired_unknown</th>\n",
              "      <th>not_repaired_yes</th>\n",
              "    </tr>\n",
              "  </thead>\n",
              "  <tbody>\n",
              "    <tr>\n",
              "      <th>0</th>\n",
              "      <td>2016-03-24 10:58:00</td>\n",
              "      <td>18300</td>\n",
              "      <td>2011</td>\n",
              "      <td>190.0</td>\n",
              "      <td>125000</td>\n",
              "      <td>5</td>\n",
              "      <td>2016-03-24</td>\n",
              "      <td>0</td>\n",
              "      <td>66954</td>\n",
              "      <td>2016-04-07 01:46:00</td>\n",
              "      <td>...</td>\n",
              "      <td>0</td>\n",
              "      <td>0</td>\n",
              "      <td>0</td>\n",
              "      <td>0</td>\n",
              "      <td>0</td>\n",
              "      <td>0</td>\n",
              "      <td>0</td>\n",
              "      <td>0</td>\n",
              "      <td>0</td>\n",
              "      <td>1</td>\n",
              "    </tr>\n",
              "    <tr>\n",
              "      <th>1</th>\n",
              "      <td>2016-03-14 12:52:00</td>\n",
              "      <td>9800</td>\n",
              "      <td>2004</td>\n",
              "      <td>163.0</td>\n",
              "      <td>125000</td>\n",
              "      <td>8</td>\n",
              "      <td>2016-03-14</td>\n",
              "      <td>0</td>\n",
              "      <td>90480</td>\n",
              "      <td>2016-04-05 12:47:00</td>\n",
              "      <td>...</td>\n",
              "      <td>0</td>\n",
              "      <td>0</td>\n",
              "      <td>0</td>\n",
              "      <td>0</td>\n",
              "      <td>0</td>\n",
              "      <td>0</td>\n",
              "      <td>0</td>\n",
              "      <td>0</td>\n",
              "      <td>1</td>\n",
              "      <td>0</td>\n",
              "    </tr>\n",
              "    <tr>\n",
              "      <th>2</th>\n",
              "      <td>2016-03-17 16:54:00</td>\n",
              "      <td>1500</td>\n",
              "      <td>2001</td>\n",
              "      <td>75.0</td>\n",
              "      <td>150000</td>\n",
              "      <td>6</td>\n",
              "      <td>2016-03-17</td>\n",
              "      <td>0</td>\n",
              "      <td>91074</td>\n",
              "      <td>2016-03-17 17:40:00</td>\n",
              "      <td>...</td>\n",
              "      <td>0</td>\n",
              "      <td>0</td>\n",
              "      <td>0</td>\n",
              "      <td>0</td>\n",
              "      <td>0</td>\n",
              "      <td>1</td>\n",
              "      <td>0</td>\n",
              "      <td>1</td>\n",
              "      <td>0</td>\n",
              "      <td>0</td>\n",
              "    </tr>\n",
              "    <tr>\n",
              "      <th>3</th>\n",
              "      <td>2016-03-31 17:25:00</td>\n",
              "      <td>3600</td>\n",
              "      <td>2008</td>\n",
              "      <td>69.0</td>\n",
              "      <td>90000</td>\n",
              "      <td>7</td>\n",
              "      <td>2016-03-31</td>\n",
              "      <td>0</td>\n",
              "      <td>60437</td>\n",
              "      <td>2016-04-06 10:17:00</td>\n",
              "      <td>...</td>\n",
              "      <td>0</td>\n",
              "      <td>0</td>\n",
              "      <td>0</td>\n",
              "      <td>0</td>\n",
              "      <td>0</td>\n",
              "      <td>0</td>\n",
              "      <td>0</td>\n",
              "      <td>1</td>\n",
              "      <td>0</td>\n",
              "      <td>0</td>\n",
              "    </tr>\n",
              "    <tr>\n",
              "      <th>4</th>\n",
              "      <td>2016-04-04 17:36:00</td>\n",
              "      <td>650</td>\n",
              "      <td>1995</td>\n",
              "      <td>102.0</td>\n",
              "      <td>150000</td>\n",
              "      <td>10</td>\n",
              "      <td>2016-04-04</td>\n",
              "      <td>0</td>\n",
              "      <td>33775</td>\n",
              "      <td>2016-04-06 19:17:00</td>\n",
              "      <td>...</td>\n",
              "      <td>0</td>\n",
              "      <td>0</td>\n",
              "      <td>0</td>\n",
              "      <td>0</td>\n",
              "      <td>0</td>\n",
              "      <td>0</td>\n",
              "      <td>0</td>\n",
              "      <td>0</td>\n",
              "      <td>0</td>\n",
              "      <td>1</td>\n",
              "    </tr>\n",
              "  </tbody>\n",
              "</table>\n",
              "<p>5 rows × 321 columns</p>\n",
              "</div>"
            ],
            "text/plain": [
              "         date_crawled  price  registration_year  power  mileage  \\\n",
              "0 2016-03-24 10:58:00  18300               2011  190.0   125000   \n",
              "1 2016-03-14 12:52:00   9800               2004  163.0   125000   \n",
              "2 2016-03-17 16:54:00   1500               2001   75.0   150000   \n",
              "3 2016-03-31 17:25:00   3600               2008   69.0    90000   \n",
              "4 2016-04-04 17:36:00    650               1995  102.0   150000   \n",
              "\n",
              "   registration_month date_created  pictures_number  postal_code  \\\n",
              "0                   5   2016-03-24                0        66954   \n",
              "1                   8   2016-03-14                0        90480   \n",
              "2                   6   2016-03-17                0        91074   \n",
              "3                   7   2016-03-31                0        60437   \n",
              "4                  10   2016-04-04                0        33775   \n",
              "\n",
              "            last_seen  ...  brand_sonstige_autos  brand_subaru  brand_suzuki  \\\n",
              "0 2016-04-07 01:46:00  ...                     0             0             0   \n",
              "1 2016-04-05 12:47:00  ...                     0             0             0   \n",
              "2 2016-03-17 17:40:00  ...                     0             0             0   \n",
              "3 2016-04-06 10:17:00  ...                     0             0             0   \n",
              "4 2016-04-06 19:17:00  ...                     0             0             0   \n",
              "\n",
              "   brand_toyota  brand_trabant  brand_volkswagen  brand_volvo  \\\n",
              "0             0              0                 0            0   \n",
              "1             0              0                 0            0   \n",
              "2             0              0                 1            0   \n",
              "3             0              0                 0            0   \n",
              "4             0              0                 0            0   \n",
              "\n",
              "   not_repaired_no  not_repaired_unknown  not_repaired_yes  \n",
              "0                0                     0                 1  \n",
              "1                0                     1                 0  \n",
              "2                1                     0                 0  \n",
              "3                1                     0                 0  \n",
              "4                0                     0                 1  \n",
              "\n",
              "[5 rows x 321 columns]"
            ]
          },
          "execution_count": 50,
          "metadata": {},
          "output_type": "execute_result"
        }
      ],
      "source": [
        "# Revisamos la nueva tabla\n",
        "df_encoded.head()"
      ]
    },
    {
      "cell_type": "code",
      "execution_count": null,
      "metadata": {
        "id": "YI13l8QfgrU2"
      },
      "outputs": [],
      "source": [
        "# Establecemos el target y los features\n",
        "y = df_encoded['price']\n",
        "X =  df_encoded.drop(columns=['price', 'date_crawled', 'registration_month', 'date_created', 'postal_code', 'last_seen', 'pictures_number'])"
      ]
    },
    {
      "cell_type": "code",
      "execution_count": null,
      "metadata": {
        "id": "iKo7JV9tgrU2"
      },
      "outputs": [],
      "source": [
        "# Dividimos los datos en un conjunto de entrenamiento y un conjunto de validación en una proporción de 75:25\n",
        "random_state = 200\n",
        "X_train, X_test, y_train, y_test = train_test_split(X,\n",
        "                                                    y,\n",
        "                                                    test_size=0.25,\n",
        "                                                    random_state=random_state)"
      ]
    },
    {
      "cell_type": "markdown",
      "metadata": {
        "id": "C2DDAOfSgrU2"
      },
      "source": [
        "Revisamos la distribución de los datos de entrenamiento y de prueba."
      ]
    },
    {
      "cell_type": "markdown",
      "metadata": {
        "id": "NuWPZFaegrU2"
      },
      "source": [
        "La distribución de los datos numéricos de ambos conjuntos es bastante parecida, de este modo, podemos esperar que nuestro modelo tenga un buen rendimiento predictivo. No se verá afectado por los cambios en distribución.\n",
        "\n",
        "A continuación entrenamos un modelo con el algoritmo LinearRegression."
      ]
    },
    {
      "cell_type": "code",
      "execution_count": null,
      "metadata": {
        "scrolled": true,
        "id": "g63dQ2gSgrU2",
        "outputId": "087527b1-f131-4f4a-dd19-9c8ecd42294e"
      },
      "outputs": [
        {
          "name": "stdout",
          "output_type": "stream",
          "text": [
            "CPU times: user 14 s, sys: 8.11 s, total: 22.1 s\n",
            "Wall time: 22.1 s\n"
          ]
        }
      ],
      "source": [
        "%%time\n",
        "# Entrenamos nuestro modelo\n",
        "\n",
        "linear_model = LinearRegression()\n",
        "linear_model.fit(X_train, y_train)\n",
        "\n",
        "linear_model_preds = linear_model.predict(X_test)"
      ]
    },
    {
      "cell_type": "code",
      "execution_count": null,
      "metadata": {
        "id": "fCaijv5agrU3"
      },
      "outputs": [],
      "source": [
        "linear_model_preds = linear_model.predict(X_test)"
      ]
    },
    {
      "cell_type": "code",
      "execution_count": null,
      "metadata": {
        "scrolled": true,
        "id": "-tRXf5LigrU3",
        "outputId": "2df9caf6-c328-41b9-d1e6-9570304e3c8b"
      },
      "outputs": [
        {
          "name": "stdout",
          "output_type": "stream",
          "text": [
            "\n",
            "Linear Model RECM: 2509.7671075420526\n",
            "\n"
          ]
        }
      ],
      "source": [
        "print(f\"\"\"\n",
        "Linear Model RECM: {round(mean_squared_error(y_test, linear_model_preds),4)**(1/2)}\n",
        "\"\"\")"
      ]
    },
    {
      "cell_type": "markdown",
      "metadata": {
        "id": "k4o0EsTngrU3"
      },
      "source": [
        "Da un RECM que al parecer es grande, pero en realidad no lo es, esto lo causa la naturaleza de nuestro 'target'. Vamos a revisar su distribución:"
      ]
    },
    {
      "cell_type": "code",
      "execution_count": null,
      "metadata": {
        "scrolled": false,
        "id": "-LreTKIJgrU3",
        "outputId": "48606de9-1cd1-4587-91ed-3c78c33ea054"
      },
      "outputs": [
        {
          "data": {
            "image/png": "[encoded data removed]",
            "text/plain": [
              "<Figure size 864x576 with 1 Axes>"
            ]
          },
          "metadata": {
            "needs_background": "light"
          },
          "output_type": "display_data"
        }
      ],
      "source": [
        "# Revisamos la distribución del target\n",
        "y_train.hist(bins=20, figsize=(12, 8))\n",
        "plt.show()"
      ]
    },
    {
      "cell_type": "markdown",
      "metadata": {
        "id": "N3OSj-MggrU3"
      },
      "source": [
        "Como podemos observar, tenemos valores más comunes desde los 500 hasta más o menos los 5000."
      ]
    },
    {
      "cell_type": "markdown",
      "metadata": {
        "id": "U0fPQM1PgrU3"
      },
      "source": [
        "Ahora construiremos un modelo con RandomForestRegressor. **Decidí hacer solo 1 iteración aquí porque tomó bastante tiempo en entrenar al modelo con RandomizedSearchCV**."
      ]
    },
    {
      "cell_type": "code",
      "execution_count": null,
      "metadata": {
        "scrolled": true,
        "id": "B5DqSJwcgrU3",
        "outputId": "d01f84c0-e14f-4094-945c-dd01c809fc91"
      },
      "outputs": [
        {
          "name": "stdout",
          "output_type": "stream",
          "text": [
            "CPU times: user 9min 14s, sys: 747 ms, total: 9min 15s\n",
            "Wall time: 9min 16s\n"
          ]
        },
        {
          "data": {
            "text/plain": [
              "RandomizedSearchCV(cv=3, estimator=RandomForestRegressor(), n_iter=1,\n",
              "                   param_distributions={'criterion': ['mse', 'mae'],\n",
              "                                        'max_depth': [3, 4, 5, 6, 7, 8, 9],\n",
              "                                        'n_estimators': [50, 51, 52, 53, 54, 55,\n",
              "                                                         56, 57, 58, 59, 60, 61,\n",
              "                                                         62, 63, 64, 65, 66, 67,\n",
              "                                                         68, 69, 70, 71, 72, 73,\n",
              "                                                         74, 75, 76, 77, 78, 79, ...]},\n",
              "                   random_state=200)"
            ]
          },
          "execution_count": 57,
          "metadata": {},
          "output_type": "execute_result"
        }
      ],
      "source": [
        "%%time\n",
        "# Entrenamos nuestro modelo\n",
        "\n",
        "random_forest_model = RandomForestRegressor()\n",
        "\n",
        "distributions = dict(n_estimators=list(range(50, 150)),\n",
        "                    max_depth=list(range(3, 10)),\n",
        "                    criterion =[\"mse\", \"mae\"])\n",
        "\n",
        "rf_tuned = RandomizedSearchCV(random_forest_model, distributions, n_iter=1, cv=3, random_state=200)\n",
        "rf_tuned.fit(X_train, y_train)"
      ]
    },
    {
      "cell_type": "code",
      "execution_count": null,
      "metadata": {
        "id": "YH5c4b3DgrU4"
      },
      "outputs": [],
      "source": [
        "rf_preds = rf_tuned.predict(X_test)"
      ]
    },
    {
      "cell_type": "code",
      "execution_count": null,
      "metadata": {
        "id": "8aWmXmW7grU4",
        "outputId": "94e7e005-c913-4349-a674-5f72e977fa27"
      },
      "outputs": [
        {
          "data": {
            "text/plain": [
              "' Random Forest Model RECM: 1900.347545950477'"
            ]
          },
          "execution_count": 59,
          "metadata": {},
          "output_type": "execute_result"
        }
      ],
      "source": [
        "f\" Random Forest Model RECM: {round(mean_squared_error(y_test, rf_preds), 4)**(1/2)}\""
      ]
    },
    {
      "cell_type": "markdown",
      "metadata": {
        "id": "ndrjQCh-grU4"
      },
      "source": [
        "Construimos un modelo con el algoritmo LightGBM."
      ]
    },
    {
      "cell_type": "code",
      "execution_count": null,
      "metadata": {
        "id": "EbrcnocCgrU4",
        "outputId": "d11b9a98-3db2-4b73-f962-f6681ff593ee"
      },
      "outputs": [
        {
          "name": "stdout",
          "output_type": "stream",
          "text": [
            "CPU times: user 16.7 s, sys: 745 ms, total: 17.5 s\n",
            "Wall time: 17.5 s\n"
          ]
        },
        {
          "data": {
            "text/plain": [
              "RandomizedSearchCV(cv=3,\n",
              "                   estimator=LGBMRegressor(learning_rate=0.5, random_state=200),\n",
              "                   n_iter=1, n_jobs=1,\n",
              "                   param_distributions={'max_depth': [25, 50, 75],\n",
              "                                        'n_estimators': [25, 50, 75],\n",
              "                                        'objective': ['mean_squared_error',\n",
              "                                                      'mean_absolute_error']})"
            ]
          },
          "execution_count": 60,
          "metadata": {},
          "output_type": "execute_result"
        }
      ],
      "source": [
        "%%time\n",
        "lgbm_model = lgbm.LGBMRegressor(\n",
        "    learning_rate=0.5,\n",
        "    random_state=200\n",
        ")\n",
        "\n",
        "grid_params = {\n",
        "    'max_depth': [25, 50, 75],\n",
        "    'n_estimators': [25, 50, 75],\n",
        "    'objective': ['mean_squared_error', 'mean_absolute_error'],\n",
        "}\n",
        "\n",
        "lgbm_tuned = RandomizedSearchCV(lgbm_model, grid_params, cv=3, n_jobs=1, n_iter=1)\n",
        "lgbm_tuned.fit(X_train, y_train)"
      ]
    },
    {
      "cell_type": "code",
      "execution_count": null,
      "metadata": {
        "id": "m6sx4bHOgrU4"
      },
      "outputs": [],
      "source": [
        "lgbm_preds = lgbm_tuned.predict(X_test)"
      ]
    },
    {
      "cell_type": "code",
      "execution_count": null,
      "metadata": {
        "scrolled": true,
        "id": "p3xkXpDtgrU4",
        "outputId": "8bf6558a-c86f-4f6e-f133-ef28e4169474"
      },
      "outputs": [
        {
          "data": {
            "text/plain": [
              "'Lgbm Model RECM: 1644.7519927940505'"
            ]
          },
          "execution_count": 62,
          "metadata": {},
          "output_type": "execute_result"
        }
      ],
      "source": [
        "f\"Lgbm Model RECM: {round(mean_squared_error(y_test, lgbm_preds), 4)**(1/2)}\""
      ]
    },
    {
      "cell_type": "markdown",
      "metadata": {
        "id": "jWcd-fHNgrU5"
      },
      "source": [
        "Por último probaremos un modelo basado en CatBoostRegressor."
      ]
    },
    {
      "cell_type": "code",
      "execution_count": null,
      "metadata": {
        "scrolled": false,
        "id": "KNfXf_98grU5",
        "outputId": "2613853e-96bc-497a-d495-44376f39ff6e"
      },
      "outputs": [
        {
          "name": "stdout",
          "output_type": "stream",
          "text": [
            "Learning rate set to 0.423425\n",
            "0:\tlearn: 3155.1119229\ttotal: 141ms\tremaining: 21s\n",
            "1:\tlearn: 2502.8120007\ttotal: 231ms\tremaining: 17.1s\n",
            "2:\tlearn: 2162.8707701\ttotal: 322ms\tremaining: 15.8s\n",
            "3:\tlearn: 1973.0598328\ttotal: 406ms\tremaining: 14.8s\n",
            "4:\tlearn: 1878.1513569\ttotal: 484ms\tremaining: 14s\n",
            "5:\tlearn: 1817.6637242\ttotal: 574ms\tremaining: 13.8s\n",
            "6:\tlearn: 1783.5352624\ttotal: 664ms\tremaining: 13.6s\n",
            "7:\tlearn: 1759.4917355\ttotal: 754ms\tremaining: 13.4s\n",
            "8:\tlearn: 1737.6532227\ttotal: 842ms\tremaining: 13.2s\n",
            "9:\tlearn: 1717.5537261\ttotal: 931ms\tremaining: 13s\n",
            "10:\tlearn: 1705.0546385\ttotal: 1.01s\tremaining: 12.8s\n",
            "11:\tlearn: 1696.3305766\ttotal: 1.1s\tremaining: 12.6s\n",
            "12:\tlearn: 1685.7809544\ttotal: 1.18s\tremaining: 12.5s\n",
            "13:\tlearn: 1677.4165520\ttotal: 1.27s\tremaining: 12.3s\n",
            "14:\tlearn: 1667.8253865\ttotal: 1.35s\tremaining: 12.2s\n",
            "15:\tlearn: 1660.3487695\ttotal: 1.44s\tremaining: 12.1s\n",
            "16:\tlearn: 1654.4945753\ttotal: 1.53s\tremaining: 12s\n",
            "17:\tlearn: 1647.9430947\ttotal: 1.62s\tremaining: 11.9s\n",
            "18:\tlearn: 1641.9114879\ttotal: 1.71s\tremaining: 11.8s\n",
            "19:\tlearn: 1633.6127759\ttotal: 1.8s\tremaining: 11.7s\n",
            "20:\tlearn: 1629.1275879\ttotal: 1.87s\tremaining: 11.5s\n",
            "21:\tlearn: 1623.1199327\ttotal: 1.96s\tremaining: 11.4s\n",
            "22:\tlearn: 1616.9508381\ttotal: 2.05s\tremaining: 11.3s\n",
            "23:\tlearn: 1610.2433798\ttotal: 2.13s\tremaining: 11.2s\n",
            "24:\tlearn: 1604.7194378\ttotal: 2.22s\tremaining: 11.1s\n",
            "25:\tlearn: 1599.8983284\ttotal: 2.3s\tremaining: 11s\n",
            "26:\tlearn: 1594.9482427\ttotal: 2.39s\tremaining: 10.9s\n",
            "27:\tlearn: 1588.2432738\ttotal: 2.47s\tremaining: 10.8s\n",
            "28:\tlearn: 1584.8448066\ttotal: 2.56s\tremaining: 10.7s\n",
            "29:\tlearn: 1581.7072635\ttotal: 2.64s\tremaining: 10.5s\n",
            "30:\tlearn: 1578.3458007\ttotal: 2.73s\tremaining: 10.5s\n",
            "31:\tlearn: 1574.8826744\ttotal: 2.81s\tremaining: 10.4s\n",
            "32:\tlearn: 1571.2240554\ttotal: 2.9s\tremaining: 10.3s\n",
            "33:\tlearn: 1566.7894537\ttotal: 2.99s\tremaining: 10.2s\n",
            "34:\tlearn: 1563.0061892\ttotal: 3.08s\tremaining: 10.1s\n",
            "35:\tlearn: 1560.4521277\ttotal: 3.16s\tremaining: 10s\n",
            "36:\tlearn: 1558.1765586\ttotal: 3.25s\tremaining: 9.94s\n",
            "37:\tlearn: 1553.9495906\ttotal: 3.34s\tremaining: 9.85s\n",
            "38:\tlearn: 1551.3264726\ttotal: 3.43s\tremaining: 9.76s\n",
            "39:\tlearn: 1547.1921621\ttotal: 3.52s\tremaining: 9.68s\n",
            "40:\tlearn: 1545.4084775\ttotal: 3.61s\tremaining: 9.59s\n",
            "41:\tlearn: 1541.9644935\ttotal: 3.7s\tremaining: 9.51s\n",
            "42:\tlearn: 1539.2306664\ttotal: 3.79s\tremaining: 9.43s\n",
            "43:\tlearn: 1534.3621345\ttotal: 3.88s\tremaining: 9.34s\n",
            "44:\tlearn: 1532.3110473\ttotal: 3.97s\tremaining: 9.26s\n",
            "45:\tlearn: 1530.0761076\ttotal: 4.05s\tremaining: 9.17s\n",
            "46:\tlearn: 1527.8100308\ttotal: 4.14s\tremaining: 9.07s\n",
            "47:\tlearn: 1525.4147186\ttotal: 4.22s\tremaining: 8.96s\n",
            "48:\tlearn: 1523.6962727\ttotal: 4.3s\tremaining: 8.87s\n",
            "49:\tlearn: 1521.9229778\ttotal: 4.39s\tremaining: 8.79s\n",
            "50:\tlearn: 1518.4276977\ttotal: 4.47s\tremaining: 8.69s\n",
            "51:\tlearn: 1515.2401132\ttotal: 4.56s\tremaining: 8.6s\n",
            "52:\tlearn: 1512.9249391\ttotal: 4.65s\tremaining: 8.52s\n",
            "53:\tlearn: 1510.2687650\ttotal: 4.74s\tremaining: 8.43s\n",
            "54:\tlearn: 1508.3989309\ttotal: 4.84s\tremaining: 8.35s\n",
            "55:\tlearn: 1504.8436625\ttotal: 4.92s\tremaining: 8.26s\n",
            "56:\tlearn: 1500.5592547\ttotal: 5.01s\tremaining: 8.18s\n",
            "57:\tlearn: 1499.1662577\ttotal: 5.09s\tremaining: 8.08s\n",
            "58:\tlearn: 1497.4973063\ttotal: 5.19s\tremaining: 8s\n",
            "59:\tlearn: 1495.4453020\ttotal: 5.27s\tremaining: 7.91s\n",
            "60:\tlearn: 1493.7140565\ttotal: 5.35s\tremaining: 7.81s\n",
            "61:\tlearn: 1492.3923687\ttotal: 5.44s\tremaining: 7.72s\n",
            "62:\tlearn: 1490.9600258\ttotal: 5.53s\tremaining: 7.63s\n",
            "63:\tlearn: 1489.8195320\ttotal: 5.62s\tremaining: 7.55s\n",
            "64:\tlearn: 1488.1667291\ttotal: 5.69s\tremaining: 7.44s\n",
            "65:\tlearn: 1485.2785312\ttotal: 5.77s\tremaining: 7.35s\n",
            "66:\tlearn: 1482.9482331\ttotal: 5.87s\tremaining: 7.27s\n",
            "67:\tlearn: 1481.6518241\ttotal: 5.95s\tremaining: 7.18s\n",
            "68:\tlearn: 1479.6547359\ttotal: 6.04s\tremaining: 7.09s\n",
            "69:\tlearn: 1478.4232312\ttotal: 6.13s\tremaining: 7.01s\n",
            "70:\tlearn: 1476.6025716\ttotal: 6.22s\tremaining: 6.92s\n",
            "71:\tlearn: 1474.9121827\ttotal: 6.31s\tremaining: 6.83s\n",
            "72:\tlearn: 1473.7771606\ttotal: 6.4s\tremaining: 6.75s\n",
            "73:\tlearn: 1472.1826131\ttotal: 6.48s\tremaining: 6.65s\n",
            "74:\tlearn: 1470.4452589\ttotal: 6.57s\tremaining: 6.57s\n",
            "75:\tlearn: 1469.1277441\ttotal: 6.66s\tremaining: 6.48s\n",
            "76:\tlearn: 1468.5989191\ttotal: 6.75s\tremaining: 6.4s\n",
            "77:\tlearn: 1466.3769571\ttotal: 6.84s\tremaining: 6.31s\n",
            "78:\tlearn: 1464.5122973\ttotal: 6.92s\tremaining: 6.22s\n",
            "79:\tlearn: 1461.7413448\ttotal: 7.01s\tremaining: 6.14s\n",
            "80:\tlearn: 1460.8408023\ttotal: 7.1s\tremaining: 6.05s\n",
            "81:\tlearn: 1458.5150423\ttotal: 7.19s\tremaining: 5.96s\n",
            "82:\tlearn: 1457.2837655\ttotal: 7.28s\tremaining: 5.88s\n",
            "83:\tlearn: 1455.7200534\ttotal: 7.37s\tremaining: 5.79s\n",
            "84:\tlearn: 1454.5651002\ttotal: 7.46s\tremaining: 5.71s\n",
            "85:\tlearn: 1453.3794763\ttotal: 7.55s\tremaining: 5.62s\n",
            "86:\tlearn: 1451.6692132\ttotal: 7.63s\tremaining: 5.53s\n",
            "87:\tlearn: 1450.6506856\ttotal: 7.72s\tremaining: 5.44s\n",
            "88:\tlearn: 1448.4561855\ttotal: 7.81s\tremaining: 5.35s\n",
            "89:\tlearn: 1447.2407086\ttotal: 7.89s\tremaining: 5.26s\n",
            "90:\tlearn: 1445.9370779\ttotal: 7.98s\tremaining: 5.17s\n",
            "91:\tlearn: 1444.3465739\ttotal: 8.07s\tremaining: 5.09s\n",
            "92:\tlearn: 1443.6174176\ttotal: 8.15s\tremaining: 5s\n",
            "93:\tlearn: 1442.7459883\ttotal: 8.24s\tremaining: 4.91s\n",
            "94:\tlearn: 1442.1764575\ttotal: 8.33s\tremaining: 4.82s\n",
            "95:\tlearn: 1440.9617031\ttotal: 8.41s\tremaining: 4.73s\n",
            "96:\tlearn: 1438.7088916\ttotal: 8.49s\tremaining: 4.64s\n",
            "97:\tlearn: 1436.7429635\ttotal: 8.58s\tremaining: 4.55s\n",
            "98:\tlearn: 1435.4601634\ttotal: 8.67s\tremaining: 4.47s\n",
            "99:\tlearn: 1434.5046794\ttotal: 8.78s\tremaining: 4.39s\n",
            "100:\tlearn: 1433.7358847\ttotal: 8.86s\tremaining: 4.3s\n",
            "101:\tlearn: 1433.1247264\ttotal: 8.94s\tremaining: 4.21s\n",
            "102:\tlearn: 1432.0869003\ttotal: 9.03s\tremaining: 4.12s\n",
            "103:\tlearn: 1430.3625456\ttotal: 9.12s\tremaining: 4.03s\n",
            "104:\tlearn: 1427.8604988\ttotal: 9.2s\tremaining: 3.94s\n",
            "105:\tlearn: 1426.4784450\ttotal: 9.28s\tremaining: 3.85s\n",
            "106:\tlearn: 1424.7112407\ttotal: 9.37s\tremaining: 3.77s\n",
            "107:\tlearn: 1423.9211806\ttotal: 9.47s\tremaining: 3.68s\n",
            "108:\tlearn: 1423.1549336\ttotal: 9.56s\tremaining: 3.6s\n",
            "109:\tlearn: 1422.0991297\ttotal: 9.65s\tremaining: 3.51s\n",
            "110:\tlearn: 1420.8186230\ttotal: 9.73s\tremaining: 3.42s\n",
            "111:\tlearn: 1419.6626964\ttotal: 9.82s\tremaining: 3.33s\n",
            "112:\tlearn: 1418.3434247\ttotal: 9.91s\tremaining: 3.25s\n",
            "113:\tlearn: 1417.2467727\ttotal: 10s\tremaining: 3.16s\n",
            "114:\tlearn: 1416.9546988\ttotal: 10.1s\tremaining: 3.07s\n",
            "115:\tlearn: 1415.5456750\ttotal: 10.2s\tremaining: 2.98s\n",
            "116:\tlearn: 1414.5339606\ttotal: 10.3s\tremaining: 2.9s\n",
            "117:\tlearn: 1413.1945257\ttotal: 10.4s\tremaining: 2.81s\n",
            "118:\tlearn: 1412.2982018\ttotal: 10.4s\tremaining: 2.72s\n",
            "119:\tlearn: 1411.6141333\ttotal: 10.5s\tremaining: 2.63s\n",
            "120:\tlearn: 1410.5457562\ttotal: 10.6s\tremaining: 2.54s\n",
            "121:\tlearn: 1409.6973081\ttotal: 10.7s\tremaining: 2.46s\n",
            "122:\tlearn: 1408.2297130\ttotal: 10.8s\tremaining: 2.37s\n",
            "123:\tlearn: 1406.9777612\ttotal: 10.9s\tremaining: 2.28s\n",
            "124:\tlearn: 1406.2072728\ttotal: 11s\tremaining: 2.19s\n",
            "125:\tlearn: 1404.8765124\ttotal: 11.1s\tremaining: 2.11s\n",
            "126:\tlearn: 1403.8561832\ttotal: 11.2s\tremaining: 2.02s\n",
            "127:\tlearn: 1403.1723443\ttotal: 11.3s\tremaining: 1.93s\n",
            "128:\tlearn: 1401.3717083\ttotal: 11.3s\tremaining: 1.85s\n",
            "129:\tlearn: 1400.5140515\ttotal: 11.4s\tremaining: 1.76s\n",
            "130:\tlearn: 1399.6817983\ttotal: 11.5s\tremaining: 1.67s\n",
            "131:\tlearn: 1398.5317832\ttotal: 11.6s\tremaining: 1.58s\n",
            "132:\tlearn: 1397.2856962\ttotal: 11.7s\tremaining: 1.5s\n",
            "133:\tlearn: 1395.8676342\ttotal: 11.8s\tremaining: 1.41s\n",
            "134:\tlearn: 1395.2419303\ttotal: 11.9s\tremaining: 1.32s\n",
            "135:\tlearn: 1393.7412543\ttotal: 12s\tremaining: 1.23s\n",
            "136:\tlearn: 1393.0533317\ttotal: 12.1s\tremaining: 1.14s\n",
            "137:\tlearn: 1391.7288162\ttotal: 12.2s\tremaining: 1.06s\n",
            "138:\tlearn: 1391.0082082\ttotal: 12.2s\tremaining: 969ms\n",
            "139:\tlearn: 1389.5117069\ttotal: 12.3s\tremaining: 881ms\n",
            "140:\tlearn: 1387.8391219\ttotal: 12.4s\tremaining: 793ms\n",
            "141:\tlearn: 1386.5086717\ttotal: 12.5s\tremaining: 705ms\n",
            "142:\tlearn: 1385.8340517\ttotal: 12.6s\tremaining: 617ms\n",
            "143:\tlearn: 1385.4890039\ttotal: 12.7s\tremaining: 528ms\n",
            "144:\tlearn: 1384.5313624\ttotal: 12.8s\tremaining: 440ms\n",
            "145:\tlearn: 1383.9745033\ttotal: 12.9s\tremaining: 352ms\n",
            "146:\tlearn: 1382.3436332\ttotal: 12.9s\tremaining: 264ms\n",
            "147:\tlearn: 1381.6257378\ttotal: 13s\tremaining: 176ms\n",
            "148:\tlearn: 1380.6728185\ttotal: 13.1s\tremaining: 88ms\n",
            "149:\tlearn: 1379.7187524\ttotal: 13.2s\tremaining: 0us\n",
            "Learning rate set to 0.423426\n",
            "0:\tlearn: 3159.7901403\ttotal: 78.5ms\tremaining: 11.7s\n",
            "1:\tlearn: 2481.4786438\ttotal: 165ms\tremaining: 12.2s\n",
            "2:\tlearn: 2141.8486177\ttotal: 247ms\tremaining: 12.1s\n",
            "3:\tlearn: 1966.6589443\ttotal: 329ms\tremaining: 12s\n",
            "4:\tlearn: 1878.9007091\ttotal: 417ms\tremaining: 12.1s\n",
            "5:\tlearn: 1818.6092709\ttotal: 499ms\tremaining: 12s\n",
            "6:\tlearn: 1785.0983347\ttotal: 579ms\tremaining: 11.8s\n",
            "7:\tlearn: 1764.4892696\ttotal: 658ms\tremaining: 11.7s\n",
            "8:\tlearn: 1738.1023946\ttotal: 747ms\tremaining: 11.7s\n",
            "9:\tlearn: 1716.5804961\ttotal: 830ms\tremaining: 11.6s\n",
            "10:\tlearn: 1705.4510750\ttotal: 919ms\tremaining: 11.6s\n",
            "11:\tlearn: 1695.8747829\ttotal: 1.01s\tremaining: 11.6s\n",
            "12:\tlearn: 1679.5705588\ttotal: 1.1s\tremaining: 11.6s\n",
            "13:\tlearn: 1672.9550909\ttotal: 1.19s\tremaining: 11.5s\n",
            "14:\tlearn: 1665.6389617\ttotal: 1.27s\tremaining: 11.5s\n",
            "15:\tlearn: 1657.4218419\ttotal: 1.36s\tremaining: 11.4s\n",
            "16:\tlearn: 1649.1993795\ttotal: 1.44s\tremaining: 11.3s\n",
            "17:\tlearn: 1642.3831482\ttotal: 1.53s\tremaining: 11.2s\n",
            "18:\tlearn: 1634.5552363\ttotal: 1.61s\tremaining: 11.1s\n",
            "19:\tlearn: 1628.2516461\ttotal: 1.7s\tremaining: 11s\n",
            "20:\tlearn: 1620.9693074\ttotal: 1.77s\tremaining: 10.9s\n",
            "21:\tlearn: 1616.5762375\ttotal: 1.86s\tremaining: 10.8s\n",
            "22:\tlearn: 1613.3709581\ttotal: 1.95s\tremaining: 10.7s\n",
            "23:\tlearn: 1607.5787659\ttotal: 2.03s\tremaining: 10.7s\n",
            "24:\tlearn: 1604.5089713\ttotal: 2.12s\tremaining: 10.6s\n",
            "25:\tlearn: 1600.5782072\ttotal: 2.21s\tremaining: 10.5s\n",
            "26:\tlearn: 1595.5916762\ttotal: 2.3s\tremaining: 10.5s\n",
            "27:\tlearn: 1592.5155063\ttotal: 2.39s\tremaining: 10.4s\n",
            "28:\tlearn: 1586.5536463\ttotal: 2.48s\tremaining: 10.4s\n",
            "29:\tlearn: 1579.3895495\ttotal: 2.56s\tremaining: 10.2s\n",
            "30:\tlearn: 1576.0297428\ttotal: 2.65s\tremaining: 10.2s\n",
            "31:\tlearn: 1573.8654641\ttotal: 2.73s\tremaining: 10.1s\n",
            "32:\tlearn: 1569.8123570\ttotal: 2.82s\tremaining: 10s\n",
            "33:\tlearn: 1566.8014729\ttotal: 2.9s\tremaining: 9.91s\n",
            "34:\tlearn: 1561.6727493\ttotal: 2.99s\tremaining: 9.81s\n",
            "35:\tlearn: 1559.0514046\ttotal: 3.09s\tremaining: 9.78s\n",
            "36:\tlearn: 1554.4585571\ttotal: 3.17s\tremaining: 9.7s\n",
            "37:\tlearn: 1551.7019639\ttotal: 3.27s\tremaining: 9.63s\n",
            "38:\tlearn: 1548.6694201\ttotal: 3.36s\tremaining: 9.56s\n",
            "39:\tlearn: 1545.6609002\ttotal: 3.45s\tremaining: 9.48s\n",
            "40:\tlearn: 1542.7351573\ttotal: 3.53s\tremaining: 9.39s\n",
            "41:\tlearn: 1540.7831521\ttotal: 3.62s\tremaining: 9.3s\n",
            "42:\tlearn: 1538.8009680\ttotal: 3.7s\tremaining: 9.2s\n",
            "43:\tlearn: 1535.8655755\ttotal: 3.79s\tremaining: 9.14s\n",
            "44:\tlearn: 1530.8788833\ttotal: 3.89s\tremaining: 9.07s\n",
            "45:\tlearn: 1527.1640671\ttotal: 3.97s\tremaining: 8.97s\n",
            "46:\tlearn: 1522.7153310\ttotal: 4.05s\tremaining: 8.88s\n",
            "47:\tlearn: 1520.3167572\ttotal: 4.13s\tremaining: 8.79s\n",
            "48:\tlearn: 1517.8554044\ttotal: 4.22s\tremaining: 8.71s\n",
            "49:\tlearn: 1515.0357572\ttotal: 4.31s\tremaining: 8.62s\n",
            "50:\tlearn: 1513.2434467\ttotal: 4.4s\tremaining: 8.54s\n",
            "51:\tlearn: 1511.5553839\ttotal: 4.49s\tremaining: 8.46s\n",
            "52:\tlearn: 1509.7966489\ttotal: 4.58s\tremaining: 8.39s\n",
            "53:\tlearn: 1505.6338034\ttotal: 4.66s\tremaining: 8.29s\n",
            "54:\tlearn: 1503.6176926\ttotal: 4.75s\tremaining: 8.21s\n",
            "55:\tlearn: 1501.7149186\ttotal: 4.84s\tremaining: 8.12s\n",
            "56:\tlearn: 1499.1997301\ttotal: 4.92s\tremaining: 8.04s\n",
            "57:\tlearn: 1496.1766617\ttotal: 5.01s\tremaining: 7.95s\n",
            "58:\tlearn: 1494.9967149\ttotal: 5.1s\tremaining: 7.86s\n",
            "59:\tlearn: 1492.8896881\ttotal: 5.18s\tremaining: 7.78s\n",
            "60:\tlearn: 1490.3835563\ttotal: 5.27s\tremaining: 7.69s\n",
            "61:\tlearn: 1487.7420995\ttotal: 5.36s\tremaining: 7.61s\n",
            "62:\tlearn: 1485.6775693\ttotal: 5.45s\tremaining: 7.52s\n",
            "63:\tlearn: 1484.2931835\ttotal: 5.53s\tremaining: 7.43s\n",
            "64:\tlearn: 1481.6229877\ttotal: 5.63s\tremaining: 7.36s\n",
            "65:\tlearn: 1479.5901226\ttotal: 5.7s\tremaining: 7.26s\n",
            "66:\tlearn: 1477.1663069\ttotal: 5.79s\tremaining: 7.17s\n",
            "67:\tlearn: 1475.7668240\ttotal: 5.88s\tremaining: 7.08s\n",
            "68:\tlearn: 1474.1374604\ttotal: 5.96s\tremaining: 7s\n",
            "69:\tlearn: 1471.5850224\ttotal: 6.05s\tremaining: 6.91s\n",
            "70:\tlearn: 1469.1941363\ttotal: 6.14s\tremaining: 6.83s\n",
            "71:\tlearn: 1467.5807239\ttotal: 6.23s\tremaining: 6.75s\n",
            "72:\tlearn: 1465.9501403\ttotal: 6.32s\tremaining: 6.66s\n",
            "73:\tlearn: 1463.9984353\ttotal: 6.41s\tremaining: 6.58s\n",
            "74:\tlearn: 1462.1996812\ttotal: 6.49s\tremaining: 6.49s\n",
            "75:\tlearn: 1460.2812129\ttotal: 6.58s\tremaining: 6.41s\n",
            "76:\tlearn: 1458.4520675\ttotal: 6.67s\tremaining: 6.32s\n",
            "77:\tlearn: 1456.6443097\ttotal: 6.75s\tremaining: 6.23s\n",
            "78:\tlearn: 1455.1242469\ttotal: 6.83s\tremaining: 6.14s\n",
            "79:\tlearn: 1453.4512676\ttotal: 6.92s\tremaining: 6.06s\n",
            "80:\tlearn: 1451.8957115\ttotal: 7s\tremaining: 5.96s\n",
            "81:\tlearn: 1450.3053606\ttotal: 7.09s\tremaining: 5.88s\n",
            "82:\tlearn: 1448.7772616\ttotal: 7.18s\tremaining: 5.8s\n",
            "83:\tlearn: 1447.9754571\ttotal: 7.27s\tremaining: 5.71s\n",
            "84:\tlearn: 1446.6349234\ttotal: 7.37s\tremaining: 5.63s\n",
            "85:\tlearn: 1445.1029412\ttotal: 7.46s\tremaining: 5.55s\n",
            "86:\tlearn: 1444.3302286\ttotal: 7.54s\tremaining: 5.46s\n",
            "87:\tlearn: 1442.8208763\ttotal: 7.62s\tremaining: 5.37s\n",
            "88:\tlearn: 1441.5397541\ttotal: 7.71s\tremaining: 5.28s\n",
            "89:\tlearn: 1440.2640310\ttotal: 7.8s\tremaining: 5.2s\n",
            "90:\tlearn: 1439.5254094\ttotal: 7.88s\tremaining: 5.11s\n",
            "91:\tlearn: 1438.5709253\ttotal: 7.97s\tremaining: 5.02s\n",
            "92:\tlearn: 1436.4489362\ttotal: 8.05s\tremaining: 4.94s\n",
            "93:\tlearn: 1435.1020745\ttotal: 8.15s\tremaining: 4.85s\n",
            "94:\tlearn: 1433.3126622\ttotal: 8.23s\tremaining: 4.77s\n",
            "95:\tlearn: 1432.2960716\ttotal: 8.32s\tremaining: 4.68s\n",
            "96:\tlearn: 1430.7966973\ttotal: 8.41s\tremaining: 4.6s\n",
            "97:\tlearn: 1429.0987814\ttotal: 8.5s\tremaining: 4.51s\n",
            "98:\tlearn: 1428.5272061\ttotal: 8.59s\tremaining: 4.43s\n",
            "99:\tlearn: 1427.0497895\ttotal: 8.68s\tremaining: 4.34s\n",
            "100:\tlearn: 1426.5464805\ttotal: 8.77s\tremaining: 4.25s\n",
            "101:\tlearn: 1424.8820995\ttotal: 8.86s\tremaining: 4.17s\n",
            "102:\tlearn: 1422.9656716\ttotal: 8.95s\tremaining: 4.08s\n",
            "103:\tlearn: 1421.7577166\ttotal: 9.04s\tremaining: 4s\n",
            "104:\tlearn: 1420.1325124\ttotal: 9.13s\tremaining: 3.91s\n",
            "105:\tlearn: 1419.2041990\ttotal: 9.22s\tremaining: 3.83s\n",
            "106:\tlearn: 1417.5674808\ttotal: 9.3s\tremaining: 3.74s\n",
            "107:\tlearn: 1416.9244103\ttotal: 9.38s\tremaining: 3.65s\n",
            "108:\tlearn: 1415.8536610\ttotal: 9.47s\tremaining: 3.56s\n",
            "109:\tlearn: 1415.0907455\ttotal: 9.56s\tremaining: 3.48s\n",
            "110:\tlearn: 1413.1790986\ttotal: 9.64s\tremaining: 3.39s\n",
            "111:\tlearn: 1411.8970547\ttotal: 9.73s\tremaining: 3.3s\n",
            "112:\tlearn: 1411.1159567\ttotal: 9.83s\tremaining: 3.22s\n",
            "113:\tlearn: 1410.3970968\ttotal: 9.91s\tremaining: 3.13s\n",
            "114:\tlearn: 1409.5812859\ttotal: 10s\tremaining: 3.04s\n",
            "115:\tlearn: 1408.5796408\ttotal: 10.1s\tremaining: 2.96s\n",
            "116:\tlearn: 1408.1008289\ttotal: 10.2s\tremaining: 2.87s\n",
            "117:\tlearn: 1407.3512693\ttotal: 10.3s\tremaining: 2.78s\n",
            "118:\tlearn: 1406.4294554\ttotal: 10.4s\tremaining: 2.7s\n",
            "119:\tlearn: 1405.6956028\ttotal: 10.4s\tremaining: 2.61s\n",
            "120:\tlearn: 1404.4660079\ttotal: 10.5s\tremaining: 2.52s\n",
            "121:\tlearn: 1403.2041161\ttotal: 10.6s\tremaining: 2.43s\n",
            "122:\tlearn: 1402.3166521\ttotal: 10.7s\tremaining: 2.35s\n",
            "123:\tlearn: 1401.7375599\ttotal: 10.8s\tremaining: 2.26s\n",
            "124:\tlearn: 1401.0811531\ttotal: 10.9s\tremaining: 2.17s\n",
            "125:\tlearn: 1400.1398648\ttotal: 11s\tremaining: 2.09s\n",
            "126:\tlearn: 1399.1497020\ttotal: 11s\tremaining: 2s\n",
            "127:\tlearn: 1398.2318265\ttotal: 11.1s\tremaining: 1.91s\n",
            "128:\tlearn: 1397.1933316\ttotal: 11.2s\tremaining: 1.83s\n",
            "129:\tlearn: 1395.9080827\ttotal: 11.3s\tremaining: 1.74s\n",
            "130:\tlearn: 1394.3711199\ttotal: 11.4s\tremaining: 1.65s\n",
            "131:\tlearn: 1392.9267783\ttotal: 11.5s\tremaining: 1.57s\n",
            "132:\tlearn: 1392.4456570\ttotal: 11.6s\tremaining: 1.48s\n",
            "133:\tlearn: 1391.3680895\ttotal: 11.7s\tremaining: 1.39s\n",
            "134:\tlearn: 1390.4159382\ttotal: 11.7s\tremaining: 1.3s\n",
            "135:\tlearn: 1389.4696845\ttotal: 11.8s\tremaining: 1.22s\n",
            "136:\tlearn: 1388.8194360\ttotal: 11.9s\tremaining: 1.13s\n",
            "137:\tlearn: 1387.8706814\ttotal: 12s\tremaining: 1.04s\n",
            "138:\tlearn: 1387.3581567\ttotal: 12.1s\tremaining: 957ms\n",
            "139:\tlearn: 1386.8161890\ttotal: 12.2s\tremaining: 871ms\n",
            "140:\tlearn: 1385.7174444\ttotal: 12.3s\tremaining: 783ms\n",
            "141:\tlearn: 1385.3482153\ttotal: 12.4s\tremaining: 696ms\n",
            "142:\tlearn: 1384.8822946\ttotal: 12.5s\tremaining: 609ms\n",
            "143:\tlearn: 1383.3416472\ttotal: 12.5s\tremaining: 522ms\n",
            "144:\tlearn: 1382.2604623\ttotal: 12.6s\tremaining: 435ms\n",
            "145:\tlearn: 1380.8932265\ttotal: 12.7s\tremaining: 348ms\n",
            "146:\tlearn: 1379.9332238\ttotal: 12.8s\tremaining: 261ms\n",
            "147:\tlearn: 1379.1498347\ttotal: 12.9s\tremaining: 174ms\n",
            "148:\tlearn: 1378.6381204\ttotal: 13s\tremaining: 87ms\n",
            "149:\tlearn: 1377.9592984\ttotal: 13s\tremaining: 0us\n",
            "Learning rate set to 0.423426\n",
            "0:\tlearn: 3136.4057772\ttotal: 88.7ms\tremaining: 13.2s\n",
            "1:\tlearn: 2485.4358031\ttotal: 170ms\tremaining: 12.6s\n",
            "2:\tlearn: 2159.9141942\ttotal: 252ms\tremaining: 12.3s\n",
            "3:\tlearn: 1983.0969658\ttotal: 338ms\tremaining: 12.3s\n",
            "4:\tlearn: 1880.9552991\ttotal: 433ms\tremaining: 12.6s\n",
            "5:\tlearn: 1809.0256693\ttotal: 512ms\tremaining: 12.3s\n",
            "6:\tlearn: 1775.7172014\ttotal: 600ms\tremaining: 12.3s\n",
            "7:\tlearn: 1751.3656978\ttotal: 683ms\tremaining: 12.1s\n",
            "8:\tlearn: 1732.7748633\ttotal: 755ms\tremaining: 11.8s\n",
            "9:\tlearn: 1718.3998821\ttotal: 839ms\tremaining: 11.8s\n",
            "10:\tlearn: 1707.3560972\ttotal: 926ms\tremaining: 11.7s\n",
            "11:\tlearn: 1696.5907886\ttotal: 1.01s\tremaining: 11.7s\n",
            "12:\tlearn: 1685.9485225\ttotal: 1.1s\tremaining: 11.6s\n",
            "13:\tlearn: 1679.6444435\ttotal: 1.19s\tremaining: 11.6s\n",
            "14:\tlearn: 1673.3241835\ttotal: 1.27s\tremaining: 11.5s\n",
            "15:\tlearn: 1660.6210304\ttotal: 1.36s\tremaining: 11.4s\n",
            "16:\tlearn: 1652.4011922\ttotal: 1.45s\tremaining: 11.3s\n",
            "17:\tlearn: 1645.2701913\ttotal: 1.53s\tremaining: 11.3s\n",
            "18:\tlearn: 1639.1063110\ttotal: 1.63s\tremaining: 11.2s\n",
            "19:\tlearn: 1633.8205008\ttotal: 1.71s\tremaining: 11.1s\n",
            "20:\tlearn: 1624.1139902\ttotal: 1.8s\tremaining: 11.1s\n",
            "21:\tlearn: 1618.3390618\ttotal: 1.88s\tremaining: 10.9s\n",
            "22:\tlearn: 1609.0985945\ttotal: 1.96s\tremaining: 10.8s\n",
            "23:\tlearn: 1605.3470531\ttotal: 2.06s\tremaining: 10.8s\n",
            "24:\tlearn: 1599.0227104\ttotal: 2.15s\tremaining: 10.7s\n",
            "25:\tlearn: 1595.1716489\ttotal: 2.23s\tremaining: 10.7s\n",
            "26:\tlearn: 1588.6529320\ttotal: 2.32s\tremaining: 10.6s\n",
            "27:\tlearn: 1583.3331928\ttotal: 2.4s\tremaining: 10.5s\n",
            "28:\tlearn: 1580.8062686\ttotal: 2.5s\tremaining: 10.4s\n",
            "29:\tlearn: 1577.1405400\ttotal: 2.59s\tremaining: 10.4s\n",
            "30:\tlearn: 1572.9261835\ttotal: 2.68s\tremaining: 10.3s\n",
            "31:\tlearn: 1568.1409569\ttotal: 2.77s\tremaining: 10.2s\n",
            "32:\tlearn: 1563.9001695\ttotal: 2.85s\tremaining: 10.1s\n",
            "33:\tlearn: 1560.6780051\ttotal: 2.94s\tremaining: 10s\n",
            "34:\tlearn: 1556.5111241\ttotal: 3.03s\tremaining: 9.95s\n",
            "35:\tlearn: 1554.2130856\ttotal: 3.11s\tremaining: 9.86s\n",
            "36:\tlearn: 1551.4375286\ttotal: 3.2s\tremaining: 9.78s\n",
            "37:\tlearn: 1547.2792775\ttotal: 3.28s\tremaining: 9.67s\n",
            "38:\tlearn: 1545.3639365\ttotal: 3.36s\tremaining: 9.57s\n",
            "39:\tlearn: 1542.7088289\ttotal: 3.45s\tremaining: 9.49s\n",
            "40:\tlearn: 1539.2592077\ttotal: 3.53s\tremaining: 9.39s\n",
            "41:\tlearn: 1535.6757685\ttotal: 3.63s\tremaining: 9.32s\n",
            "42:\tlearn: 1532.7326346\ttotal: 3.72s\tremaining: 9.25s\n",
            "43:\tlearn: 1529.4936184\ttotal: 3.81s\tremaining: 9.17s\n",
            "44:\tlearn: 1525.7869218\ttotal: 3.9s\tremaining: 9.1s\n",
            "45:\tlearn: 1523.3523100\ttotal: 3.98s\tremaining: 9.01s\n",
            "46:\tlearn: 1521.8871767\ttotal: 4.07s\tremaining: 8.92s\n",
            "47:\tlearn: 1518.0788588\ttotal: 4.16s\tremaining: 8.84s\n",
            "48:\tlearn: 1515.5111177\ttotal: 4.25s\tremaining: 8.75s\n",
            "49:\tlearn: 1513.4920620\ttotal: 4.33s\tremaining: 8.67s\n",
            "50:\tlearn: 1510.4545616\ttotal: 4.42s\tremaining: 8.58s\n",
            "51:\tlearn: 1506.4640907\ttotal: 4.5s\tremaining: 8.48s\n",
            "52:\tlearn: 1504.3624332\ttotal: 4.58s\tremaining: 8.39s\n",
            "53:\tlearn: 1502.0975464\ttotal: 4.67s\tremaining: 8.3s\n",
            "54:\tlearn: 1499.8195531\ttotal: 4.75s\tremaining: 8.21s\n",
            "55:\tlearn: 1497.9662169\ttotal: 4.84s\tremaining: 8.12s\n",
            "56:\tlearn: 1496.4765320\ttotal: 4.92s\tremaining: 8.03s\n",
            "57:\tlearn: 1494.8052672\ttotal: 5.01s\tremaining: 7.95s\n",
            "58:\tlearn: 1493.0094502\ttotal: 5.1s\tremaining: 7.87s\n",
            "59:\tlearn: 1491.8605158\ttotal: 5.19s\tremaining: 7.78s\n",
            "60:\tlearn: 1490.6378814\ttotal: 5.28s\tremaining: 7.71s\n",
            "61:\tlearn: 1489.1192422\ttotal: 5.37s\tremaining: 7.62s\n",
            "62:\tlearn: 1487.0029129\ttotal: 5.45s\tremaining: 7.53s\n",
            "63:\tlearn: 1485.3010536\ttotal: 5.54s\tremaining: 7.45s\n",
            "64:\tlearn: 1483.6222173\ttotal: 5.63s\tremaining: 7.37s\n",
            "65:\tlearn: 1481.7308004\ttotal: 5.71s\tremaining: 7.27s\n",
            "66:\tlearn: 1480.2747382\ttotal: 5.8s\tremaining: 7.18s\n",
            "67:\tlearn: 1478.2316954\ttotal: 5.89s\tremaining: 7.1s\n",
            "68:\tlearn: 1475.7614978\ttotal: 5.97s\tremaining: 7.01s\n",
            "69:\tlearn: 1474.7029537\ttotal: 6.05s\tremaining: 6.91s\n",
            "70:\tlearn: 1472.6656833\ttotal: 6.14s\tremaining: 6.83s\n",
            "71:\tlearn: 1471.2292827\ttotal: 6.23s\tremaining: 6.75s\n",
            "72:\tlearn: 1469.1528570\ttotal: 6.3s\tremaining: 6.65s\n",
            "73:\tlearn: 1466.7700500\ttotal: 6.4s\tremaining: 6.57s\n",
            "74:\tlearn: 1465.2989718\ttotal: 6.48s\tremaining: 6.48s\n",
            "75:\tlearn: 1464.0556307\ttotal: 6.58s\tremaining: 6.4s\n",
            "76:\tlearn: 1462.2148598\ttotal: 6.67s\tremaining: 6.32s\n",
            "77:\tlearn: 1459.9563378\ttotal: 6.75s\tremaining: 6.23s\n",
            "78:\tlearn: 1458.4621861\ttotal: 6.83s\tremaining: 6.14s\n",
            "79:\tlearn: 1456.4246383\ttotal: 6.92s\tremaining: 6.05s\n",
            "80:\tlearn: 1454.9631698\ttotal: 7s\tremaining: 5.96s\n",
            "81:\tlearn: 1453.8758354\ttotal: 7.08s\tremaining: 5.87s\n",
            "82:\tlearn: 1452.4428127\ttotal: 7.2s\tremaining: 5.81s\n",
            "83:\tlearn: 1451.8299730\ttotal: 7.29s\tremaining: 5.73s\n",
            "84:\tlearn: 1450.4715521\ttotal: 7.38s\tremaining: 5.64s\n",
            "85:\tlearn: 1449.0888119\ttotal: 7.47s\tremaining: 5.56s\n",
            "86:\tlearn: 1448.0686883\ttotal: 7.56s\tremaining: 5.47s\n",
            "87:\tlearn: 1447.6235924\ttotal: 7.65s\tremaining: 5.39s\n",
            "88:\tlearn: 1446.3333221\ttotal: 7.74s\tremaining: 5.3s\n",
            "89:\tlearn: 1445.6352750\ttotal: 7.83s\tremaining: 5.22s\n",
            "90:\tlearn: 1443.5760341\ttotal: 7.91s\tremaining: 5.13s\n",
            "91:\tlearn: 1442.2125072\ttotal: 8s\tremaining: 5.05s\n",
            "92:\tlearn: 1440.7824425\ttotal: 8.09s\tremaining: 4.96s\n",
            "93:\tlearn: 1439.4334893\ttotal: 8.18s\tremaining: 4.88s\n",
            "94:\tlearn: 1438.0680889\ttotal: 8.26s\tremaining: 4.78s\n",
            "95:\tlearn: 1436.6308938\ttotal: 8.35s\tremaining: 4.7s\n",
            "96:\tlearn: 1435.3041293\ttotal: 8.45s\tremaining: 4.61s\n",
            "97:\tlearn: 1433.6568367\ttotal: 8.53s\tremaining: 4.53s\n",
            "98:\tlearn: 1431.9459588\ttotal: 8.63s\tremaining: 4.44s\n",
            "99:\tlearn: 1430.1477677\ttotal: 8.71s\tremaining: 4.35s\n",
            "100:\tlearn: 1428.8529481\ttotal: 8.79s\tremaining: 4.26s\n",
            "101:\tlearn: 1427.4237736\ttotal: 8.87s\tremaining: 4.18s\n",
            "102:\tlearn: 1426.2150181\ttotal: 8.96s\tremaining: 4.09s\n",
            "103:\tlearn: 1424.6543573\ttotal: 9.05s\tremaining: 4s\n",
            "104:\tlearn: 1423.8843622\ttotal: 9.13s\tremaining: 3.91s\n",
            "105:\tlearn: 1421.9338193\ttotal: 9.22s\tremaining: 3.83s\n",
            "106:\tlearn: 1421.2453982\ttotal: 9.31s\tremaining: 3.74s\n",
            "107:\tlearn: 1419.7033706\ttotal: 9.39s\tremaining: 3.65s\n",
            "108:\tlearn: 1417.6946276\ttotal: 9.48s\tremaining: 3.57s\n",
            "109:\tlearn: 1415.8279284\ttotal: 9.56s\tremaining: 3.48s\n",
            "110:\tlearn: 1414.1490613\ttotal: 9.64s\tremaining: 3.39s\n",
            "111:\tlearn: 1412.5870421\ttotal: 9.73s\tremaining: 3.3s\n",
            "112:\tlearn: 1411.7752951\ttotal: 9.82s\tremaining: 3.21s\n",
            "113:\tlearn: 1411.1196364\ttotal: 9.91s\tremaining: 3.13s\n",
            "114:\tlearn: 1409.2240733\ttotal: 10s\tremaining: 3.04s\n",
            "115:\tlearn: 1408.3812326\ttotal: 10.1s\tremaining: 2.96s\n",
            "116:\tlearn: 1407.1861013\ttotal: 10.2s\tremaining: 2.87s\n",
            "117:\tlearn: 1405.9829563\ttotal: 10.3s\tremaining: 2.78s\n",
            "118:\tlearn: 1404.7634923\ttotal: 10.4s\tremaining: 2.7s\n",
            "119:\tlearn: 1403.0396241\ttotal: 10.4s\tremaining: 2.61s\n",
            "120:\tlearn: 1401.6742010\ttotal: 10.5s\tremaining: 2.52s\n",
            "121:\tlearn: 1400.7588979\ttotal: 10.6s\tremaining: 2.44s\n",
            "122:\tlearn: 1399.8495366\ttotal: 10.7s\tremaining: 2.35s\n",
            "123:\tlearn: 1399.0325318\ttotal: 10.8s\tremaining: 2.27s\n",
            "124:\tlearn: 1397.5744856\ttotal: 10.9s\tremaining: 2.18s\n",
            "125:\tlearn: 1396.1500224\ttotal: 11s\tremaining: 2.09s\n",
            "126:\tlearn: 1394.9975140\ttotal: 11.1s\tremaining: 2s\n",
            "127:\tlearn: 1393.9520206\ttotal: 11.2s\tremaining: 1.92s\n",
            "128:\tlearn: 1393.4998316\ttotal: 11.3s\tremaining: 1.83s\n",
            "129:\tlearn: 1392.7981546\ttotal: 11.3s\tremaining: 1.74s\n",
            "130:\tlearn: 1391.9369080\ttotal: 11.4s\tremaining: 1.66s\n",
            "131:\tlearn: 1391.3281138\ttotal: 11.5s\tremaining: 1.57s\n",
            "132:\tlearn: 1390.2997170\ttotal: 11.6s\tremaining: 1.48s\n",
            "133:\tlearn: 1389.4360072\ttotal: 11.7s\tremaining: 1.4s\n",
            "134:\tlearn: 1388.2655554\ttotal: 11.8s\tremaining: 1.31s\n",
            "135:\tlearn: 1387.3871936\ttotal: 11.9s\tremaining: 1.22s\n",
            "136:\tlearn: 1386.7779395\ttotal: 12s\tremaining: 1.13s\n",
            "137:\tlearn: 1385.0248415\ttotal: 12s\tremaining: 1.05s\n",
            "138:\tlearn: 1383.9796411\ttotal: 12.1s\tremaining: 960ms\n",
            "139:\tlearn: 1383.3960155\ttotal: 12.2s\tremaining: 873ms\n",
            "140:\tlearn: 1382.7033274\ttotal: 12.3s\tremaining: 786ms\n",
            "141:\tlearn: 1381.5982197\ttotal: 12.4s\tremaining: 699ms\n",
            "142:\tlearn: 1380.3865732\ttotal: 12.5s\tremaining: 611ms\n",
            "143:\tlearn: 1378.8569923\ttotal: 12.6s\tremaining: 524ms\n",
            "144:\tlearn: 1378.0761095\ttotal: 12.7s\tremaining: 437ms\n",
            "145:\tlearn: 1377.4717077\ttotal: 12.8s\tremaining: 350ms\n",
            "146:\tlearn: 1376.9209225\ttotal: 12.8s\tremaining: 262ms\n",
            "147:\tlearn: 1376.6749702\ttotal: 12.9s\tremaining: 175ms\n",
            "148:\tlearn: 1375.5914946\ttotal: 13s\tremaining: 87.4ms\n",
            "149:\tlearn: 1374.4018200\ttotal: 13.1s\tremaining: 0us\n",
            "Learning rate set to 0.451439\n",
            "0:\tlearn: 3059.8206330\ttotal: 123ms\tremaining: 18.3s\n",
            "1:\tlearn: 2411.6987963\ttotal: 246ms\tremaining: 18.2s\n",
            "2:\tlearn: 2115.7870594\ttotal: 355ms\tremaining: 17.4s\n",
            "3:\tlearn: 1945.5179990\ttotal: 480ms\tremaining: 17.5s\n",
            "4:\tlearn: 1862.9687439\ttotal: 601ms\tremaining: 17.4s\n",
            "5:\tlearn: 1809.3476072\ttotal: 726ms\tremaining: 17.4s\n",
            "6:\tlearn: 1778.5916324\ttotal: 855ms\tremaining: 17.5s\n",
            "7:\tlearn: 1755.5197635\ttotal: 977ms\tremaining: 17.3s\n",
            "8:\tlearn: 1734.7730495\ttotal: 1.1s\tremaining: 17.2s\n",
            "9:\tlearn: 1722.6296489\ttotal: 1.23s\tremaining: 17.2s\n",
            "10:\tlearn: 1706.2465089\ttotal: 1.35s\tremaining: 17.1s\n",
            "11:\tlearn: 1696.9349721\ttotal: 1.47s\tremaining: 16.9s\n",
            "12:\tlearn: 1689.2861715\ttotal: 1.6s\tremaining: 16.8s\n",
            "13:\tlearn: 1677.8828309\ttotal: 1.71s\tremaining: 16.6s\n",
            "14:\tlearn: 1669.7994450\ttotal: 1.83s\tremaining: 16.5s\n",
            "15:\tlearn: 1663.1859481\ttotal: 1.96s\tremaining: 16.4s\n",
            "16:\tlearn: 1656.6843778\ttotal: 2.09s\tremaining: 16.3s\n",
            "17:\tlearn: 1648.3101134\ttotal: 2.21s\tremaining: 16.2s\n",
            "18:\tlearn: 1641.6307427\ttotal: 2.34s\tremaining: 16.1s\n",
            "19:\tlearn: 1633.4750161\ttotal: 2.46s\tremaining: 16s\n",
            "20:\tlearn: 1628.7547786\ttotal: 2.58s\tremaining: 15.8s\n",
            "21:\tlearn: 1619.8704421\ttotal: 2.71s\tremaining: 15.8s\n",
            "22:\tlearn: 1613.6609002\ttotal: 2.82s\tremaining: 15.6s\n",
            "23:\tlearn: 1606.6147188\ttotal: 2.94s\tremaining: 15.4s\n",
            "24:\tlearn: 1603.1854076\ttotal: 3.05s\tremaining: 15.3s\n",
            "25:\tlearn: 1598.3346271\ttotal: 3.17s\tremaining: 15.1s\n",
            "26:\tlearn: 1594.4379377\ttotal: 3.29s\tremaining: 15s\n",
            "27:\tlearn: 1590.0061297\ttotal: 3.42s\tremaining: 14.9s\n",
            "28:\tlearn: 1586.1908007\ttotal: 3.54s\tremaining: 14.8s\n",
            "29:\tlearn: 1583.5913287\ttotal: 3.66s\tremaining: 14.6s\n",
            "30:\tlearn: 1578.0311276\ttotal: 3.79s\tremaining: 14.5s\n",
            "31:\tlearn: 1573.4154628\ttotal: 3.91s\tremaining: 14.4s\n",
            "32:\tlearn: 1569.7129422\ttotal: 4.04s\tremaining: 14.3s\n",
            "33:\tlearn: 1567.5352076\ttotal: 4.16s\tremaining: 14.2s\n",
            "34:\tlearn: 1564.0874703\ttotal: 4.28s\tremaining: 14.1s\n",
            "35:\tlearn: 1558.5330661\ttotal: 4.4s\tremaining: 13.9s\n",
            "36:\tlearn: 1555.2546304\ttotal: 4.52s\tremaining: 13.8s\n",
            "37:\tlearn: 1552.6372427\ttotal: 4.65s\tremaining: 13.7s\n",
            "38:\tlearn: 1548.8725272\ttotal: 4.77s\tremaining: 13.6s\n",
            "39:\tlearn: 1544.4768263\ttotal: 4.89s\tremaining: 13.4s\n",
            "40:\tlearn: 1541.8138697\ttotal: 5.01s\tremaining: 13.3s\n",
            "41:\tlearn: 1538.9652094\ttotal: 5.14s\tremaining: 13.2s\n",
            "42:\tlearn: 1536.1864590\ttotal: 5.26s\tremaining: 13.1s\n",
            "43:\tlearn: 1534.3016142\ttotal: 5.38s\tremaining: 13s\n",
            "44:\tlearn: 1528.8584936\ttotal: 5.49s\tremaining: 12.8s\n",
            "45:\tlearn: 1526.5592753\ttotal: 5.62s\tremaining: 12.7s\n",
            "46:\tlearn: 1524.1072339\ttotal: 5.74s\tremaining: 12.6s\n",
            "47:\tlearn: 1520.4806923\ttotal: 5.87s\tremaining: 12.5s\n",
            "48:\tlearn: 1518.5151642\ttotal: 6s\tremaining: 12.4s\n",
            "49:\tlearn: 1516.9376293\ttotal: 6.11s\tremaining: 12.2s\n",
            "50:\tlearn: 1515.4071312\ttotal: 6.24s\tremaining: 12.1s\n",
            "51:\tlearn: 1513.5648696\ttotal: 6.37s\tremaining: 12s\n",
            "52:\tlearn: 1512.1320921\ttotal: 6.49s\tremaining: 11.9s\n",
            "53:\tlearn: 1508.6947449\ttotal: 6.62s\tremaining: 11.8s\n",
            "54:\tlearn: 1506.0056686\ttotal: 6.72s\tremaining: 11.6s\n",
            "55:\tlearn: 1502.9144886\ttotal: 6.84s\tremaining: 11.5s\n",
            "56:\tlearn: 1500.1089751\ttotal: 6.97s\tremaining: 11.4s\n",
            "57:\tlearn: 1498.2604311\ttotal: 7.09s\tremaining: 11.3s\n",
            "58:\tlearn: 1496.9133398\ttotal: 7.21s\tremaining: 11.1s\n",
            "59:\tlearn: 1495.2553902\ttotal: 7.33s\tremaining: 11s\n",
            "60:\tlearn: 1493.8673224\ttotal: 7.46s\tremaining: 10.9s\n",
            "61:\tlearn: 1492.1418593\ttotal: 7.57s\tremaining: 10.7s\n",
            "62:\tlearn: 1490.0395582\ttotal: 7.69s\tremaining: 10.6s\n",
            "63:\tlearn: 1487.8417628\ttotal: 7.81s\tremaining: 10.5s\n",
            "64:\tlearn: 1487.0255598\ttotal: 7.94s\tremaining: 10.4s\n",
            "65:\tlearn: 1484.0871727\ttotal: 8.06s\tremaining: 10.3s\n",
            "66:\tlearn: 1482.0450836\ttotal: 8.19s\tremaining: 10.1s\n",
            "67:\tlearn: 1480.4494470\ttotal: 8.3s\tremaining: 10s\n",
            "68:\tlearn: 1478.1813286\ttotal: 8.42s\tremaining: 9.89s\n",
            "69:\tlearn: 1476.7455584\ttotal: 8.55s\tremaining: 9.77s\n",
            "70:\tlearn: 1475.4499427\ttotal: 8.68s\tremaining: 9.65s\n",
            "71:\tlearn: 1473.2998907\ttotal: 8.8s\tremaining: 9.54s\n",
            "72:\tlearn: 1471.0623355\ttotal: 8.94s\tremaining: 9.43s\n",
            "73:\tlearn: 1469.7266730\ttotal: 9.06s\tremaining: 9.31s\n",
            "74:\tlearn: 1468.5581376\ttotal: 9.17s\tremaining: 9.17s\n",
            "75:\tlearn: 1467.5245341\ttotal: 9.3s\tremaining: 9.05s\n",
            "76:\tlearn: 1466.3823492\ttotal: 9.42s\tremaining: 8.94s\n",
            "77:\tlearn: 1465.0221802\ttotal: 9.55s\tremaining: 8.81s\n",
            "78:\tlearn: 1463.3242686\ttotal: 9.67s\tremaining: 8.69s\n",
            "79:\tlearn: 1462.0645970\ttotal: 9.79s\tremaining: 8.57s\n",
            "80:\tlearn: 1459.6747979\ttotal: 9.92s\tremaining: 8.45s\n",
            "81:\tlearn: 1458.7946256\ttotal: 10s\tremaining: 8.33s\n",
            "82:\tlearn: 1457.7236043\ttotal: 10.2s\tremaining: 8.21s\n",
            "83:\tlearn: 1456.6946477\ttotal: 10.3s\tremaining: 8.09s\n",
            "84:\tlearn: 1455.0811203\ttotal: 10.4s\tremaining: 7.96s\n",
            "85:\tlearn: 1453.3846603\ttotal: 10.5s\tremaining: 7.83s\n",
            "86:\tlearn: 1451.9846085\ttotal: 10.7s\tremaining: 7.71s\n",
            "87:\tlearn: 1450.9516993\ttotal: 10.8s\tremaining: 7.6s\n",
            "88:\tlearn: 1448.9542554\ttotal: 10.9s\tremaining: 7.48s\n",
            "89:\tlearn: 1447.2746084\ttotal: 11s\tremaining: 7.36s\n",
            "90:\tlearn: 1444.3373092\ttotal: 11.2s\tremaining: 7.24s\n",
            "91:\tlearn: 1442.6926554\ttotal: 11.3s\tremaining: 7.11s\n",
            "92:\tlearn: 1441.4040427\ttotal: 11.4s\tremaining: 6.99s\n",
            "93:\tlearn: 1440.6692523\ttotal: 11.5s\tremaining: 6.87s\n",
            "94:\tlearn: 1439.6836365\ttotal: 11.6s\tremaining: 6.74s\n",
            "95:\tlearn: 1439.1975025\ttotal: 11.8s\tremaining: 6.62s\n",
            "96:\tlearn: 1438.5794679\ttotal: 11.9s\tremaining: 6.5s\n",
            "97:\tlearn: 1437.5027188\ttotal: 12s\tremaining: 6.38s\n",
            "98:\tlearn: 1436.2656867\ttotal: 12.1s\tremaining: 6.26s\n",
            "99:\tlearn: 1434.9292057\ttotal: 12.3s\tremaining: 6.13s\n",
            "100:\tlearn: 1433.4529375\ttotal: 12.4s\tremaining: 6.01s\n",
            "101:\tlearn: 1432.5774278\ttotal: 12.5s\tremaining: 5.89s\n",
            "102:\tlearn: 1431.0551574\ttotal: 12.6s\tremaining: 5.77s\n",
            "103:\tlearn: 1429.9948667\ttotal: 12.8s\tremaining: 5.65s\n",
            "104:\tlearn: 1428.9015943\ttotal: 12.9s\tremaining: 5.52s\n",
            "105:\tlearn: 1428.3280293\ttotal: 13s\tremaining: 5.4s\n",
            "106:\tlearn: 1427.2404322\ttotal: 13.1s\tremaining: 5.28s\n",
            "107:\tlearn: 1425.9732096\ttotal: 13.3s\tremaining: 5.15s\n",
            "108:\tlearn: 1425.3319696\ttotal: 13.4s\tremaining: 5.03s\n",
            "109:\tlearn: 1424.3423910\ttotal: 13.5s\tremaining: 4.91s\n",
            "110:\tlearn: 1423.3150329\ttotal: 13.6s\tremaining: 4.79s\n",
            "111:\tlearn: 1422.3841836\ttotal: 13.8s\tremaining: 4.67s\n",
            "112:\tlearn: 1421.1555992\ttotal: 13.9s\tremaining: 4.54s\n",
            "113:\tlearn: 1419.5689108\ttotal: 14s\tremaining: 4.42s\n",
            "114:\tlearn: 1418.8071842\ttotal: 14.1s\tremaining: 4.29s\n",
            "115:\tlearn: 1417.9158986\ttotal: 14.2s\tremaining: 4.17s\n",
            "116:\tlearn: 1416.5666839\ttotal: 14.4s\tremaining: 4.05s\n",
            "117:\tlearn: 1414.8207836\ttotal: 14.5s\tremaining: 3.93s\n",
            "118:\tlearn: 1414.0690901\ttotal: 14.6s\tremaining: 3.8s\n",
            "119:\tlearn: 1413.2554959\ttotal: 14.7s\tremaining: 3.68s\n",
            "120:\tlearn: 1412.5557486\ttotal: 14.9s\tremaining: 3.56s\n",
            "121:\tlearn: 1411.4827452\ttotal: 15s\tremaining: 3.44s\n",
            "122:\tlearn: 1411.2161438\ttotal: 15.1s\tremaining: 3.32s\n",
            "123:\tlearn: 1410.4095099\ttotal: 15.2s\tremaining: 3.19s\n",
            "124:\tlearn: 1409.8449876\ttotal: 15.4s\tremaining: 3.07s\n",
            "125:\tlearn: 1408.9601962\ttotal: 15.5s\tremaining: 2.95s\n",
            "126:\tlearn: 1407.9887097\ttotal: 15.6s\tremaining: 2.83s\n",
            "127:\tlearn: 1407.4450457\ttotal: 15.7s\tremaining: 2.7s\n",
            "128:\tlearn: 1406.2273659\ttotal: 15.9s\tremaining: 2.58s\n",
            "129:\tlearn: 1405.1084343\ttotal: 16s\tremaining: 2.46s\n",
            "130:\tlearn: 1403.9494424\ttotal: 16.1s\tremaining: 2.34s\n",
            "131:\tlearn: 1403.4504245\ttotal: 16.2s\tremaining: 2.21s\n",
            "132:\tlearn: 1402.5691190\ttotal: 16.4s\tremaining: 2.09s\n",
            "133:\tlearn: 1401.9761031\ttotal: 16.5s\tremaining: 1.97s\n",
            "134:\tlearn: 1401.3296972\ttotal: 16.6s\tremaining: 1.84s\n",
            "135:\tlearn: 1400.7079140\ttotal: 16.7s\tremaining: 1.72s\n",
            "136:\tlearn: 1400.0931742\ttotal: 16.8s\tremaining: 1.6s\n",
            "137:\tlearn: 1400.0196524\ttotal: 17s\tremaining: 1.47s\n",
            "138:\tlearn: 1398.7148125\ttotal: 17.1s\tremaining: 1.35s\n",
            "139:\tlearn: 1397.6538011\ttotal: 17.2s\tremaining: 1.23s\n",
            "140:\tlearn: 1396.3208097\ttotal: 17.3s\tremaining: 1.11s\n",
            "141:\tlearn: 1395.1307503\ttotal: 17.5s\tremaining: 983ms\n",
            "142:\tlearn: 1394.1816317\ttotal: 17.6s\tremaining: 860ms\n",
            "143:\tlearn: 1393.1619602\ttotal: 17.7s\tremaining: 737ms\n",
            "144:\tlearn: 1392.5297582\ttotal: 17.8s\tremaining: 614ms\n",
            "145:\tlearn: 1391.7556665\ttotal: 17.9s\tremaining: 491ms\n",
            "146:\tlearn: 1390.7900036\ttotal: 18.1s\tremaining: 368ms\n",
            "147:\tlearn: 1389.1386577\ttotal: 18.2s\tremaining: 246ms\n",
            "148:\tlearn: 1388.6514568\ttotal: 18.3s\tremaining: 123ms\n",
            "149:\tlearn: 1387.9290426\ttotal: 18.4s\tremaining: 0us\n",
            "CPU times: user 1min 3s, sys: 239 ms, total: 1min 3s\n",
            "Wall time: 1min 4s\n"
          ]
        },
        {
          "data": {
            "text/plain": [
              "RandomizedSearchCV(cv=3,\n",
              "                   estimator=<catboost.core.CatBoostRegressor object at 0x7f04be625070>,\n",
              "                   n_iter=1, n_jobs=1,\n",
              "                   param_distributions={'depth': [6, 8, 10],\n",
              "                                        'iterations': [50, 100, 150],\n",
              "                                        'loss_function': ['RMSE', 'MAE']})"
            ]
          },
          "execution_count": 63,
          "metadata": {},
          "output_type": "execute_result"
        }
      ],
      "source": [
        "%%time\n",
        "# Entrenamos modelo CatBoostRegressor\n",
        "catbr_model = CatBoostRegressor()\n",
        "\n",
        "grid_params = {\n",
        "    'depth': [6, 8, 10],\n",
        "    'iterations': [50, 100, 150],\n",
        "    'loss_function': ['RMSE', 'MAE'],\n",
        "}\n",
        "\n",
        "catbr_tuned = RandomizedSearchCV(catbr_model, grid_params, cv=3, n_jobs=1, n_iter=1)\n",
        "catbr_tuned.fit(X_train, y_train)"
      ]
    },
    {
      "cell_type": "code",
      "execution_count": null,
      "metadata": {
        "id": "XntPNWn6grU5"
      },
      "outputs": [],
      "source": [
        "catbr_preds = catbr_tuned.predict(X_test)"
      ]
    },
    {
      "cell_type": "code",
      "execution_count": null,
      "metadata": {
        "id": "SwG4S9FTgrU5",
        "outputId": "3d4d20ce-06f7-40ed-d8bf-334e70f9a407"
      },
      "outputs": [
        {
          "data": {
            "text/plain": [
              "'catbr Model RECM: 1500.4216602675397'"
            ]
          },
          "execution_count": 65,
          "metadata": {},
          "output_type": "execute_result"
        }
      ],
      "source": [
        "f\"catbr Model RECM: {round(mean_squared_error(y_test, catbr_preds), 4)**(1/2)}\""
      ]
    },
    {
      "cell_type": "markdown",
      "metadata": {
        "id": "FNF7git-grU5"
      },
      "source": [
        "## Análisis del modelo"
      ]
    },
    {
      "cell_type": "markdown",
      "metadata": {
        "id": "I2A48nh0grU6"
      },
      "source": [
        "**Comparamos el rendimiento de los tres modelos**:"
      ]
    },
    {
      "cell_type": "code",
      "execution_count": null,
      "metadata": {
        "scrolled": true,
        "id": "9FPRZAwYgrU6",
        "outputId": "8d499d81-61d6-4722-a3a9-3853f60482cd"
      },
      "outputs": [
        {
          "name": "stdout",
          "output_type": "stream",
          "text": [
            "\n",
            "Linear Model RECM: 2509.7671075420526\n",
            "Random Forest Model RECM: 1900.347545950477\n",
            "Lgbm Model RECM: 1644.7519927940505\n",
            "catbr Model RECM: 1500.4216602675397\n",
            "\n"
          ]
        }
      ],
      "source": [
        "print(f\"\"\"\n",
        "Linear Model RECM: {round(mean_squared_error(y_test, linear_model_preds),4)**(1/2)}\n",
        "Random Forest Model RECM: {round(mean_squared_error(y_test, rf_preds), 4)**(1/2)}\n",
        "Lgbm Model RECM: {round(mean_squared_error(y_test, lgbm_preds), 4)**(1/2)}\n",
        "catbr Model RECM: {round(mean_squared_error(y_test, catbr_preds), 4)**(1/2)}\n",
        "\"\"\")"
      ]
    },
    {
      "cell_type": "markdown",
      "metadata": {
        "id": "McybMPgkgrU6"
      },
      "source": [
        "- 1. El modelo LinearRegression fue el que nos arrojó el RECM más alto. Su entrenamiento duró 15 segundos.\n",
        "- 2. El rendimiento mejoró al aplicar un algoritmo basado en árboles. Su entrenamiento demoró 7 minutos.\n",
        "- 3. Al aplicar LightGBM obtuvimos un mejor rendimiento. Su entrenamiento tardó 17 segundos.\n",
        "- 4. Por último se utilizó el algoritmo CatBoostRegressor a modo de experimento, lo cual nos dio el mejor rendimiento. Su entrenamiento tomó 40 segundos."
      ]
    },
    {
      "cell_type": "markdown",
      "metadata": {
        "id": "PZhiqkTEgrU6"
      },
      "source": [
        "En síntesis, el modelo basado en CatBoostRegressor fue el que obtuvo el mejor rendimiento. Mientras que RandomForestRegressor fue el modelo que más demoró en entrenar."
      ]
    },
    {
      "cell_type": "markdown",
      "metadata": {
        "id": "LS6J1GNRgrU7"
      },
      "source": [
        "## Conclusión"
      ]
    },
    {
      "cell_type": "markdown",
      "metadata": {
        "id": "Kwr7zZK5grU7"
      },
      "source": [
        "- 1. **Al analizar los datos**:\n",
        " - 1. Cambiamos los formatos de las columnas con fechas a datetime.\n",
        " - 2. Modificamos el formato de los nombres de las columnas.\n",
        " - 3. Descartamos valores anormales, estableciendo límites superiores e inferiores.\n",
        " - 4. Imputamos valores ausentes por medio de las correlaciones de las columnas. En otros casos no fue posible calcular valores, por lo que simplemente imputamos con 'unknown'.\n",
        " - 5. Descartamos valores duplicados y reseteamos el index.\n",
        " - 6. Por medio de este proceso descartamos cerca del 20% de los datos.\n",
        "\n",
        "\n",
        "- 2. **Entrenamos cuatro modelos**:\n",
        "  - LinearRegression\n",
        "  - RandomForestRegressor\n",
        "  - LightGBM  \n",
        "  - CatBoostRegressor\n",
        "\n",
        "\n",
        "- 3. **Obtuvismo los siguientes rendimientos y tiempos de entrenamiento**:\n",
        " - 1. El modelo LinearRegression fue el que nos arrojó el RECM más alto. Su entrenamiento duró 22 segundos.\n",
        " - 2. El rendimiento mejoró al aplicar un algoritmo basado en árboles. Su entrenamiento demoró 9 minutos.\n",
        " - 3. Al aplicar LightGBM obtuvimos un mejor rendimiento. Su entrenamiento tardó 17 segundos.\n",
        " - 4. Por último se utilizó el algoritmo CatBoostRegressor a modo de experimento, lo cual nos dio el mejor rendimiento. Su entrenamiento tomó 1 minuto.\n",
        "\n",
        " - En síntesis, el modelo basado en CatBoostRegressor fue el que obtuvo el mejor rendimiento. Mientras que RandomForestRegressor fue el modelo que más demoró en entrenar."
      ]
    },
    {
      "cell_type": "markdown",
      "metadata": {
        "id": "0qtWuOIigrU7"
      },
      "source": [
        "# Lista de control"
      ]
    },
    {
      "cell_type": "code",
      "execution_count": null,
      "metadata": {
        "id": "E6ucORvrgrU7"
      },
      "outputs": [],
      "source": []
    },
    {
      "cell_type": "markdown",
      "metadata": {
        "id": "7uv3VrO9grU7"
      },
      "source": [
        "Escribe 'x' para verificar. Luego presiona Shift+Enter"
      ]
    },
    {
      "cell_type": "markdown",
      "metadata": {
        "id": "caOZLEzNgrU8"
      },
      "source": [
        "- [x]  Jupyter Notebook está abierto\n",
        "- [ ]  El código no tiene errores- [ ]  Las celdas con el código han sido colocadas en orden de ejecución- [ ]  Los datos han sido descargados y preparados- [ ]  Los modelos han sido entrenados\n",
        "- [ ]  Se realizó el análisis de velocidad y calidad de los modelos"
      ]
    }
  ],
  "metadata": {
    "kernelspec": {
      "display_name": "Python 3 (ipykernel)",
      "language": "python",
      "name": "python3"
    },
    "language_info": {
      "codemirror_mode": {
        "name": "ipython",
        "version": 3
      },
      "file_extension": ".py",
      "mimetype": "text/x-python",
      "name": "python",
      "nbconvert_exporter": "python",
      "pygments_lexer": "ipython3",
      "version": "3.9.5"
    },
    "toc": {
      "base_numbering": 1,
      "nav_menu": {},
      "number_sections": true,
      "sideBar": true,
      "skip_h1_title": true,
      "title_cell": "Table of Contents",
      "title_sidebar": "Contents",
      "toc_cell": false,
      "toc_position": {},
      "toc_section_display": true,
      "toc_window_display": false
    },
    "colab": {
      "provenance": []
    }
  },
  "nbformat": 4,
  "nbformat_minor": 0
}